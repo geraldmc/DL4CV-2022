{
  "nbformat": 4,
  "nbformat_minor": 0,
  "metadata": {
    "colab": {
      "name": "test_pytorch.ipynb",
      "provenance": [],
      "collapsed_sections": [],
      "authorship_tag": "ABX9TyPlHgIppeq0xEZ1DGF42tB4",
      "include_colab_link": true
    },
    "kernelspec": {
      "name": "python3",
      "display_name": "Python 3"
    },
    "language_info": {
      "name": "python"
    },
    "accelerator": "GPU"
  },
  "cells": [
    {
      "cell_type": "markdown",
      "metadata": {
        "id": "view-in-github",
        "colab_type": "text"
      },
      "source": [
        "<a href=\"https://colab.research.google.com/github/geraldmc/DL4CV-2022/blob/main/test_pytorch.ipynb\" target=\"_parent\"><img src=\"https://colab.research.google.com/assets/colab-badge.svg\" alt=\"Open In Colab\"/></a>"
      ]
    },
    {
      "cell_type": "code",
      "execution_count": null,
      "metadata": {
        "id": "0I2CcnVlnrgg"
      },
      "outputs": [],
      "source": [
        "## Standard libraries\n",
        "import os\n",
        "import math\n",
        "import numpy as np \n",
        "import time\n",
        "\n",
        "## Imports for plotting\n",
        "import matplotlib.pyplot as plt\n",
        "%matplotlib inline \n",
        "from IPython.display import set_matplotlib_formats\n",
        "set_matplotlib_formats('svg', 'pdf') # For export\n",
        "from matplotlib.colors import to_rgba\n",
        "import seaborn as sns\n",
        "sns.set()\n",
        "\n",
        "## Progress bar\n",
        "try:\n",
        "  from tqdm.notebook import tqdm\n",
        "except ImportError:\n",
        "  print(\"Unable to import tqdm library.\")"
      ]
    },
    {
      "cell_type": "code",
      "source": [
        "import torch\n",
        "print(\"Using torch\", torch.__version__)\n",
        "\n",
        "# Note on Mac M1 this prints ... 'Using torch 1.9.1.post3'"
      ],
      "metadata": {
        "colab": {
          "base_uri": "https://localhost:8080/"
        },
        "id": "k5e2rjdJn3aG",
        "outputId": "7cf2672a-a818-498d-f5e5-e675bd1f3b7e"
      },
      "execution_count": null,
      "outputs": [
        {
          "output_type": "stream",
          "name": "stdout",
          "text": [
            "Using torch 1.10.0+cu111\n"
          ]
        }
      ]
    },
    {
      "cell_type": "code",
      "source": [
        "gpu_avail = torch.cuda.is_available()\n",
        "if gpu_avail:\n",
        "  print(f\"Is the GPU available: {gpu_avail}\")\n",
        "  print(\"GPU type: {}\".format(torch.cuda.get_device_name(0)))\n",
        "else:\n",
        "  print(\"GPU unavailable.\") "
      ],
      "metadata": {
        "colab": {
          "base_uri": "https://localhost:8080/"
        },
        "id": "9ko9iRz65dpx",
        "outputId": "f17e46ad-0838-4e4a-a0a0-969c633918b3"
      },
      "execution_count": null,
      "outputs": [
        {
          "output_type": "stream",
          "name": "stdout",
          "text": [
            "Is the GPU available: True\n",
            "GPU type: Tesla P100-PCIE-16GB\n"
          ]
        }
      ]
    },
    {
      "cell_type": "code",
      "source": [
        "import cv2\n",
        "cv2.__version__"
      ],
      "metadata": {
        "id": "nHaiTIeuC_Jx",
        "outputId": "54ab9f77-d4e2-460d-b1c0-d2865b1ca8a3",
        "colab": {
          "base_uri": "https://localhost:8080/",
          "height": 35
        }
      },
      "execution_count": null,
      "outputs": [
        {
          "output_type": "execute_result",
          "data": {
            "application/vnd.google.colaboratory.intrinsic+json": {
              "type": "string"
            },
            "text/plain": [
              "'4.1.2'"
            ]
          },
          "metadata": {},
          "execution_count": 14
        }
      ]
    },
    {
      "cell_type": "code",
      "source": [
        "import torchvision\n",
        "torchvision.__version__"
      ],
      "metadata": {
        "id": "wlgTmhFc0Bix",
        "outputId": "6bc66ccb-f096-49eb-e714-b11ba076cc9d",
        "colab": {
          "base_uri": "https://localhost:8080/",
          "height": 35
        }
      },
      "execution_count": null,
      "outputs": [
        {
          "output_type": "execute_result",
          "data": {
            "application/vnd.google.colaboratory.intrinsic+json": {
              "type": "string"
            },
            "text/plain": [
              "'0.11.1+cu111'"
            ]
          },
          "metadata": {},
          "execution_count": 8
        }
      ]
    },
    {
      "cell_type": "code",
      "source": [
        "import PIL\n",
        "PIL.__version__"
      ],
      "metadata": {
        "id": "BRns7rXXTA-h",
        "outputId": "8302d0ed-a441-425b-b5ce-4604de28f5f1",
        "colab": {
          "base_uri": "https://localhost:8080/",
          "height": 35
        }
      },
      "execution_count": null,
      "outputs": [
        {
          "output_type": "execute_result",
          "data": {
            "application/vnd.google.colaboratory.intrinsic+json": {
              "type": "string"
            },
            "text/plain": [
              "'7.1.2'"
            ]
          },
          "metadata": {},
          "execution_count": 3
        }
      ]
    },
    {
      "cell_type": "markdown",
      "source": [
        "The following uses 'imgaug' for augmentation: \n",
        "https://medium.com/pytorch/ai-for-ag-production-machine-learning-for-agriculture-e8cfdb9849a1"
      ],
      "metadata": {
        "id": "nIpc8Y0BPXVk"
      }
    },
    {
      "cell_type": "code",
      "source": [
        "from imgaug import augmenters as iaa\n",
        "import os\n",
        "from torch.utils.data import DataLoader, random_split\n",
        "from torchvision.datasets import FashionMNIST\n",
        "from torchvision import datasets, transforms\n",
        "\n",
        "DATA_DIR = './fashionMNIST/'\n",
        "\n",
        "class CustomAugmentor:\n",
        "    \n",
        "    def __init__(self):\n",
        "            self.aug = iaa.Sequential([iaa.flip.Fliplr(p=0.5),\n",
        "                       iaa.GaussianBlur(sigma=(0.0, 0.1)),\n",
        "                       iaa.Multiply((0.9, 1.1)),\n",
        "                       iaa.Dropout((0, 0.05)),\n",
        "                       iaa.AdditiveGaussianNoise(scale=(0, 0.05*255)) ])\n",
        "    \n",
        "    def __call__(self, img):\n",
        "        img = np.array(img)\n",
        "        # Return a copy here to work around the error: \n",
        "        # ValueError: At least one stride in the given numpy array is negative, \n",
        "        # and tensors with negative strides are not currently supported.\n",
        "        return self.aug.augment_image(img).copy()\n",
        "\n",
        "# transforms for images\n",
        "transform=transforms.Compose([CustomAugmentor(), transforms.ToTensor()])\n",
        "fmnist_train = FashionMNIST(DATA_DIR, train=True, download=True, transform=transform)\n",
        "fmnist_test = FashionMNIST(DATA_DIR, train=False, download=True, transform=transforms.ToTensor())\n",
        "fmnist_train, fmnist_val = random_split(fmnist_train, [55000, 5000])\n",
        "\n",
        "train_dl = DataLoader(fmnist_train, batch_size=64)\n",
        "val_dl = DataLoader(fmnist_val, batch_size=64)\n",
        "test_dl = DataLoader(fmnist_test, batch_size=64)"
      ],
      "metadata": {
        "id": "r7SlJlcePj9X"
      },
      "execution_count": null,
      "outputs": []
    }
  ]
}