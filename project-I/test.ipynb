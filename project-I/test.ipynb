{
 "cells": [
  {
   "cell_type": "code",
   "execution_count": 20,
   "id": "bc70f95d-8436-4942-94c8-1931add893c2",
   "metadata": {},
   "outputs": [],
   "source": [
    "from torch.utils.data import Dataset"
   ]
  },
  {
   "cell_type": "code",
   "execution_count": 21,
   "id": "31f6b40d-fd20-44ba-bb6a-d7d9eb819aa5",
   "metadata": {},
   "outputs": [],
   "source": [
    "from loader.gtsrb_data import GTSRB_Test\n",
    "from utils.tensor2image import imshow"
   ]
  },
  {
   "cell_type": "code",
   "execution_count": 22,
   "id": "d38fe652-3e1f-4f1f-bf11-4ddd576efbaf",
   "metadata": {},
   "outputs": [
    {
     "name": "stdout",
     "output_type": "stream",
     "text": [
      "data/Final_Test/Images/GT-final_test.csv\n"
     ]
    }
   ],
   "source": [
    "GTSRB_test_dataset = GTSRB_Test('data/')"
   ]
  },
  {
   "cell_type": "code",
   "execution_count": 23,
   "id": "65005e5c-070a-4485-8944-2f907699083e",
   "metadata": {},
   "outputs": [
    {
     "data": {
      "text/plain": [
       "'GT-final_test.csv'"
      ]
     },
     "execution_count": 23,
     "metadata": {},
     "output_type": "execute_result"
    }
   ],
   "source": [
    "GTSRB_test_dataset.csv_file_name"
   ]
  },
  {
   "cell_type": "code",
   "execution_count": 24,
   "id": "30f0e0f6-a571-4fc4-b11c-2e707c665e34",
   "metadata": {},
   "outputs": [],
   "source": [
    "assert len(GTSRB_test_dataset) == 12630"
   ]
  },
  {
   "cell_type": "code",
   "execution_count": 25,
   "id": "ec7cd90d-2cb5-4747-9f9d-a639b0329ee0",
   "metadata": {},
   "outputs": [],
   "source": [
    "img, label, frame = GTSRB_test_dataset[7]"
   ]
  },
  {
   "cell_type": "code",
   "execution_count": 26,
   "id": "aabce51c-4a0d-4d11-89b0-e61bb52e4a3a",
   "metadata": {},
   "outputs": [
    {
     "data": {
      "image/png": "[encoded data removed]",
      "text/plain": [
       "<Figure size 432x288 with 1 Axes>"
      ]
     },
     "metadata": {
      "needs_background": "light"
     },
     "output_type": "display_data"
    }
   ],
   "source": [
    "imshow(img, label)"
   ]
  },
  {
   "cell_type": "code",
   "execution_count": null,
   "id": "08a0b643-c5f5-48ba-9a75-a447e3d6e44f",
   "metadata": {},
   "outputs": [],
   "source": []
  }
 ],
 "metadata": {
  "kernelspec": {
   "display_name": "Python 3 (ipykernel)",
   "language": "python",
   "name": "python3"
  },
  "language_info": {
   "codemirror_mode": {
    "name": "ipython",
    "version": 3
   },
   "file_extension": ".py",
   "mimetype": "text/x-python",
   "name": "python",
   "nbconvert_exporter": "python",
   "pygments_lexer": "ipython3",
   "version": "3.8.12"
  }
 },
 "nbformat": 4,
 "nbformat_minor": 5
}
