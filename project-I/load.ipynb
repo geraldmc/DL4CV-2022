{
 "cells": [
  {
   "cell_type": "code",
   "execution_count": 1,
   "id": "8db81a50-bfd1-4fa8-be5b-cc81c0814c97",
   "metadata": {},
   "outputs": [],
   "source": [
    "import os\n",
    "import argparse\n",
    "import numpy as np\n",
    "import torch\n",
    "import torch.nn as nn\n",
    "import torch.nn.functional as F\n",
    "import torch.optim as optim\n",
    "from torch.autograd import Variable\n",
    "import torch.utils.data as data\n",
    "import torchvision\n",
    "from torchvision import datasets, transforms"
   ]
  },
  {
   "cell_type": "code",
   "execution_count": 2,
   "id": "e59d4a65-6227-4a6a-a8fd-7277b6378e70",
   "metadata": {},
   "outputs": [
    {
     "name": "stdout",
     "output_type": "stream",
     "text": [
      "Using CPU\n"
     ]
    }
   ],
   "source": [
    "import sys\n",
    "\n",
    "COLAB = 'google.colab' in str(get_ipython())\n",
    "TRANSFORMS = True\n",
    "HAS_GPU = torch.cuda.is_available()\n",
    "is_local = not COLAB\n",
    "\n",
    "if COLAB: # running on Colab\n",
    "    \n",
    "    from google.colab import drive\n",
    "    drive.mount('/content/drive')\n",
    "    gdrive_path = '/content/drive//MyDrive/DL4CV-2022/project-I/'\n",
    "    sys.path.append(gdrive_path)\n",
    "\n",
    "    zip_path_train = gdrive_path + 'data/Final_Training.zip'\n",
    "    zip_path_val = gdrive_path + 'data/Final_Validation.zip'\n",
    "    !unzip -q \"{zip_path_train}\"\n",
    "    !unzip -q \"{zip_path_val}\"\n",
    "    \n",
    "    if HAS_GPU:\n",
    "        print(\"Using GPU\")\n",
    "else:\n",
    "    HAS_GPU = False\n",
    "    print(\"Using CPU\")\n",
    "    \n",
    "import utils.helpers as utils\n",
    "import loader.gtsrb_data as dataset\n",
    "\n",
    "# If we run cuda then accomodate these datatypes.\n",
    "FloatTensor = torch.cuda.FloatTensor if HAS_GPU else torch.FloatTensor\n",
    "LongTensor = torch.cuda.LongTensor if HAS_GPU else torch.LongTensor\n",
    "ByteTensor = torch.cuda.ByteTensor if HAS_GPU else torch.ByteTensor\n",
    "Tensor = FloatTensor"
   ]
  },
  {
   "cell_type": "code",
   "execution_count": 3,
   "id": "070a8a0d-345a-4418-89ba-cf282ca8adf3",
   "metadata": {},
   "outputs": [
    {
     "name": "stdout",
     "output_type": "stream",
     "text": [
      "\u001b[1m\u001b[36m00000\u001b[m\u001b[m \u001b[1m\u001b[36m00004\u001b[m\u001b[m \u001b[1m\u001b[36m00008\u001b[m\u001b[m \u001b[1m\u001b[36m00012\u001b[m\u001b[m \u001b[1m\u001b[36m00016\u001b[m\u001b[m \u001b[1m\u001b[36m00020\u001b[m\u001b[m \u001b[1m\u001b[36m00024\u001b[m\u001b[m \u001b[1m\u001b[36m00028\u001b[m\u001b[m \u001b[1m\u001b[36m00032\u001b[m\u001b[m \u001b[1m\u001b[36m00036\u001b[m\u001b[m \u001b[1m\u001b[36m00040\u001b[m\u001b[m\n",
      "\u001b[1m\u001b[36m00001\u001b[m\u001b[m \u001b[1m\u001b[36m00005\u001b[m\u001b[m \u001b[1m\u001b[36m00009\u001b[m\u001b[m \u001b[1m\u001b[36m00013\u001b[m\u001b[m \u001b[1m\u001b[36m00017\u001b[m\u001b[m \u001b[1m\u001b[36m00021\u001b[m\u001b[m \u001b[1m\u001b[36m00025\u001b[m\u001b[m \u001b[1m\u001b[36m00029\u001b[m\u001b[m \u001b[1m\u001b[36m00033\u001b[m\u001b[m \u001b[1m\u001b[36m00037\u001b[m\u001b[m \u001b[1m\u001b[36m00041\u001b[m\u001b[m\n",
      "\u001b[1m\u001b[36m00002\u001b[m\u001b[m \u001b[1m\u001b[36m00006\u001b[m\u001b[m \u001b[1m\u001b[36m00010\u001b[m\u001b[m \u001b[1m\u001b[36m00014\u001b[m\u001b[m \u001b[1m\u001b[36m00018\u001b[m\u001b[m \u001b[1m\u001b[36m00022\u001b[m\u001b[m \u001b[1m\u001b[36m00026\u001b[m\u001b[m \u001b[1m\u001b[36m00030\u001b[m\u001b[m \u001b[1m\u001b[36m00034\u001b[m\u001b[m \u001b[1m\u001b[36m00038\u001b[m\u001b[m \u001b[1m\u001b[36m00042\u001b[m\u001b[m\n",
      "\u001b[1m\u001b[36m00003\u001b[m\u001b[m \u001b[1m\u001b[36m00007\u001b[m\u001b[m \u001b[1m\u001b[36m00011\u001b[m\u001b[m \u001b[1m\u001b[36m00015\u001b[m\u001b[m \u001b[1m\u001b[36m00019\u001b[m\u001b[m \u001b[1m\u001b[36m00023\u001b[m\u001b[m \u001b[1m\u001b[36m00027\u001b[m\u001b[m \u001b[1m\u001b[36m00031\u001b[m\u001b[m \u001b[1m\u001b[36m00035\u001b[m\u001b[m \u001b[1m\u001b[36m00039\u001b[m\u001b[m\n"
     ]
    }
   ],
   "source": [
    "if COLAB:\n",
    "  !ls /content/Final_Training/Images\n",
    "else:\n",
    "    !ls data/Final_Training/Images"
   ]
  },
  {
   "cell_type": "code",
   "execution_count": 4,
   "id": "8abfcf83-83fa-4236-81a1-0e92d4d89196",
   "metadata": {},
   "outputs": [],
   "source": [
    "import loader.args as load_args\n",
    "args = load_args.get_args(is_local)\n",
    "\n",
    "TRAIN_DATA_PATH = args.data_dir_train\n",
    "VAL_DATA_PATH = args.data_dir_val\n",
    "TEST_DATA_PATH = args.data_dir_test\n",
    "BATCH_SIZE = args.batch_size\n",
    "EPOCHS = 10\n",
    "BATCH_SIZE = args.batch_size\n",
    "LEARNING_RATE = args.learning_rate"
   ]
  },
  {
   "cell_type": "code",
   "execution_count": 5,
   "id": "abff6254-15ea-4d9c-88f9-aa442cbba976",
   "metadata": {},
   "outputs": [],
   "source": [
    "from loader import transforms as tfs\n",
    "\n",
    "if TRANSFORMS:\n",
    "\n",
    "    train_loader = torch.utils.data.DataLoader(\n",
    "          torch.utils.data.ConcatDataset([datasets.ImageFolder(\n",
    "                                               TRAIN_DATA_PATH, \n",
    "                                               transform=tfs.data_transforms),\n",
    "                                          datasets.ImageFolder(\n",
    "                                               TRAIN_DATA_PATH,\n",
    "                                               transform=tfs.data_translate),\n",
    "                                          datasets.ImageFolder(\n",
    "                                               TRAIN_DATA_PATH,\n",
    "                                               transform=tfs.data_grayscale),\n",
    "                                          datasets.ImageFolder(\n",
    "                                               TRAIN_DATA_PATH,\n",
    "                                               transform=tfs.data_center),\n",
    "                                          datasets.ImageFolder(\n",
    "                                               TRAIN_DATA_PATH,\n",
    "                                               transform=tfs.data_rotate),\n",
    "                                          datasets.ImageFolder(\n",
    "                                               TRAIN_DATA_PATH,\n",
    "                                               transform=tfs.data_jitter_hue)]), \n",
    "                                               batch_size=args.batch_size, \n",
    "                                               shuffle=True, num_workers=2, \n",
    "                                               pin_memory=HAS_GPU)\n",
    "\n",
    "    val_loader = torch.utils.data.DataLoader(\n",
    "          torch.utils.data.ConcatDataset([datasets.ImageFolder(\n",
    "                                               VAL_DATA_PATH, \n",
    "                                               transform=tfs.data_transforms),\n",
    "                                          datasets.ImageFolder(\n",
    "                                               VAL_DATA_PATH,\n",
    "                                               transform=tfs.data_translate),\n",
    "                                          datasets.ImageFolder(\n",
    "                                               VAL_DATA_PATH,\n",
    "                                               transform=tfs.data_grayscale),\n",
    "                                          datasets.ImageFolder(\n",
    "                                               VAL_DATA_PATH,\n",
    "                                               transform=tfs.data_center),\n",
    "                                          datasets.ImageFolder(\n",
    "                                               VAL_DATA_PATH,\n",
    "                                               transform=tfs.data_rotate),\n",
    "                                          datasets.ImageFolder(\n",
    "                                               VAL_DATA_PATH,\n",
    "                                               transform=tfs.data_jitter_hue)]), \n",
    "                                               batch_size=args.batch_size, \n",
    "                                               shuffle=False, num_workers=2, \n",
    "                                               pin_memory=HAS_GPU)\n",
    "else:\n",
    "  pass # without transforms the sample number is train=39209, test=12630, val=3870"
   ]
  },
  {
   "cell_type": "code",
   "execution_count": 6,
   "id": "6212e598-d64b-4c68-8032-e61cf1d77e28",
   "metadata": {},
   "outputs": [
    {
     "name": "stdout",
     "output_type": "stream",
     "text": [
      "235300\n",
      "23250\n"
     ]
    }
   ],
   "source": [
    "print(len(train_loader)*50)\n",
    "print(len(val_loader)*50)"
   ]
  },
  {
   "cell_type": "code",
   "execution_count": 7,
   "id": "21383d32-698e-442c-95d6-ae15ac5476bf",
   "metadata": {},
   "outputs": [
    {
     "name": "stdout",
     "output_type": "stream",
     "text": [
      "Augmented dataset: 235254 training samples & 23220 validation samples\n",
      "\n",
      "Distribution of classes in augmented train dataset:\n"
     ]
    },
    {
     "data": {
      "image/png": "[encoded data removed]",
      "text/plain": [
       "<Figure size 432x288 with 1 Axes>"
      ]
     },
     "metadata": {
      "needs_background": "light"
     },
     "output_type": "display_data"
    }
   ],
   "source": [
    "import matplotlib.pyplot as plt\n",
    "print('Augmented dataset: %d training samples & %d validation samples\\n' % (\n",
    "    len(train_loader.dataset), len(val_loader.dataset)))\n",
    "\n",
    "# Get the labels from concatenated datasets\n",
    "train_dataset_list = train_loader.dataset.datasets\n",
    "train_concat_labels = []\n",
    "for ds in train_dataset_list:\n",
    "    train_concat_labels.extend(ds.targets)\n",
    "    \n",
    "val_dataset_list = val_loader.dataset.datasets\n",
    "val_concat_labels = []\n",
    "for ds in val_dataset_list:\n",
    "    val_concat_labels.extend(ds.targets)\n",
    "\n",
    "class_labels = range(43)\n",
    "\n",
    "print('Distribution of classes in augmented train dataset:')\n",
    "fig, ax = plt.subplots()\n",
    "_, counts = np.unique(train_concat_labels, return_counts=True)\n",
    "ax.bar(class_labels, counts)\n",
    "ax.set_xticks(class_labels)\n",
    "plt.show()"
   ]
  },
  {
   "cell_type": "code",
   "execution_count": null,
   "id": "6ef4c9c6-7229-412b-9000-d481c65d6505",
   "metadata": {},
   "outputs": [],
   "source": [
    "# Neural Network and Optimizer\n",
    "from model.models import Net as NN\n",
    "\n",
    "model = NN()\n",
    "if HAS_GPU:\n",
    "    model.cuda()\n",
    "\n",
    "# Optimizer is updated to *not* include non-gradient weights.    \n",
    "optimizer = optim.Adam(filter(lambda p: p.requires_grad, model.parameters()),\n",
    "                                                      lr=args.learning_rate)\n",
    "# Reduce learning rate when a metric has stopped improving. \n",
    "scheduler = optim.lr_scheduler.ReduceLROnPlateau(optimizer, 'min',\n",
    "                                                 patience=5,\n",
    "                                                 factor=0.5,\n",
    "                                                 verbose=True)"
   ]
  },
  {
   "cell_type": "code",
   "execution_count": null,
   "id": "8c05cef4-43cc-43af-b82b-59fdbbcf365f",
   "metadata": {},
   "outputs": [],
   "source": [
    "def train(epoch):\n",
    "    model.train()\n",
    "    correct = 0\n",
    "    training_loss = 0\n",
    "    \n",
    "    for batch_idx, (data, target) in enumerate(train_loader):\n",
    "        data, target = Variable(data), Variable(target)\n",
    "        if HAS_GPU:\n",
    "            data = data.cuda()\n",
    "            target = target.cuda()\n",
    "        optimizer.zero_grad()\n",
    "        output = model(data)\n",
    "        loss = F.nll_loss(output, target)\n",
    "        loss.backward()\n",
    "        optimizer.step()\n",
    "        max_index = output.max(dim = 1)[1]\n",
    "        correct += (max_index == target).sum()\n",
    "        training_loss += loss\n",
    "        if batch_idx % args.log_interval == 0:\n",
    "            print('Train Epoch: {} [{}/{} ({:.0f}%)]\\tLoss per example: {:.6f}\\tLoss: {:.6f}'.format(\n",
    "                        epoch, batch_idx * len(data), len(train_loader.dataset),\n",
    "                        100. * batch_idx / len(train_loader), loss.data.item()/(args.batch_size * args.log_interval),\n",
    "                        loss.data.item()))\n",
    "            print('\\nTraining set: Average loss: {:.4f}, Accuracy: {}/{} ({:.0f}%)\\n'.format(\n",
    "                training_loss / len(train_loader.dataset), correct, len(train_loader.dataset),\n",
    "                100. * correct / len(train_loader.dataset)))\n",
    "    "
   ]
  },
  {
   "cell_type": "code",
   "execution_count": null,
   "id": "292c2c5e-2636-414b-bf0a-7a2f181e8b7c",
   "metadata": {},
   "outputs": [],
   "source": [
    "def validation():\n",
    "    model.eval()\n",
    "    validation_loss = 0\n",
    "    correct = 0\n",
    "    for data, target in val_loader:\n",
    "        with torch.no_grad():\n",
    "            data, target = Variable(data), Variable(target)\n",
    "            if HAS_GPU:\n",
    "                data = data.cuda()\n",
    "                target = target.cuda()\n",
    "            output = model(data)\n",
    "            validation_loss += F.nll_loss(output, target, size_average=False).data.item() # sum up batch loss\n",
    "            pred = output.data.max(1, keepdim=True)[1] # get the index of the max log-probability\n",
    "            correct += pred.eq(target.data.view_as(pred)).cpu().sum()\n",
    "\n",
    "    validation_loss /= len(val_loader.dataset)\n",
    "    scheduler.step(np.around(validation_loss,2))\n",
    "    \n",
    "    print('\\nValidation set: Average loss: {:.4f}, Accuracy: {}/{} ({:.0f}%)\\n'.format(\n",
    "        validation_loss, correct, len(val_loader.dataset),\n",
    "        100. * correct / len(val_loader.dataset)))\n",
    "    "
   ]
  },
  {
   "cell_type": "code",
   "execution_count": null,
   "id": "9ddafcd9-6772-4350-afb8-f25e638968ff",
   "metadata": {},
   "outputs": [],
   "source": [
    "for epoch in range(1, args.num_epochs + 1):\n",
    "    train(epoch)\n",
    "    validation()"
   ]
  },
  {
   "cell_type": "code",
   "execution_count": null,
   "id": "871b4e85-0c8c-4ebe-8185-ff2189e2a975",
   "metadata": {},
   "outputs": [],
   "source": [
    "'''\n",
    "    train_data        = torchvision.datasets.ImageFolder(root=TRAIN_DATA_PATH, \n",
    "                                                         transform=tfs.data_transforms)\n",
    "    train_loader = data.DataLoader(train_data, batch_size=BATCH_SIZE, shuffle=True,  num_workers=2)\n",
    "    test_data         = torchvision.datasets.ImageFolder(root=TEST_DATA_PATH, \n",
    "                                                         transform=tfs.data_transforms)\n",
    "    test_loader  = data.DataLoader(test_data, batch_size=BATCH_SIZE, shuffle=True, num_workers=2)\n",
    "    val_data          = torchvision.datasets.ImageFolder(root=VAL_DATA_PATH, \n",
    "                                                         transform=tfs.data_transforms)\n",
    "    val_loader   = data.DataLoader(val_data, batch_size=BATCH_SIZE, shuffle=True,  num_workers=2)\n",
    "    \n",
    "    \n",
    "ds = datasets.ImageFolder(VAL_DATA_PATH, transform=None)\n",
    "#dir(ds)\n",
    "#ds.samples[0:5] # the first five samples\n",
    "#ds.imgs[33] # img 33\n",
    "#ds.samples[33] # sample 33, equivalent of previous line\n",
    "#ds.samples[33][0] # a sample path\n",
    "#ds.samples[33][1] # a sample class label\n",
    "#ds.find_classes(VAL_DATA_PATH)\n",
    "#ds.targets\n",
    "\n",
    "'''"
   ]
  }
 ],
 "metadata": {
  "kernelspec": {
   "display_name": "Python 3 (ipykernel)",
   "language": "python",
   "name": "python3"
  },
  "language_info": {
   "codemirror_mode": {
    "name": "ipython",
    "version": 3
   },
   "file_extension": ".py",
   "mimetype": "text/x-python",
   "name": "python",
   "nbconvert_exporter": "python",
   "pygments_lexer": "ipython3",
   "version": "3.8.12"
  }
 },
 "nbformat": 4,
 "nbformat_minor": 5
}
