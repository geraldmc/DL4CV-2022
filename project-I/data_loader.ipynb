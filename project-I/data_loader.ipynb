{
 "cells": [
  {
   "cell_type": "code",
   "execution_count": 1,
   "id": "71700897-5c2f-4081-b6b1-e38d3000a0bd",
   "metadata": {},
   "outputs": [],
   "source": [
    "# for automatic reloading and inline matplotlib\n",
    "%reload_ext autoreload\n",
    "%autoreload 2\n",
    "%matplotlib inline"
   ]
  },
  {
   "cell_type": "code",
   "execution_count": 2,
   "id": "7341244f-3f51-4248-8443-11bc87add49a",
   "metadata": {},
   "outputs": [],
   "source": [
    "import matplotlib.pyplot as plt\n",
    "import csv\n",
    "import os\n",
    "import shutil\n",
    "import sys\n",
    "\n",
    "from collections import defaultdict, namedtuple\n",
    "\n",
    "import pandas as pd\n",
    "\n",
    "from sklearn.metrics import confusion_matrix"
   ]
  },
  {
   "cell_type": "code",
   "execution_count": 3,
   "id": "7285c111-3128-4c67-b4ce-4a9c30e5c1d9",
   "metadata": {},
   "outputs": [
    {
     "name": "stdout",
     "output_type": "stream",
     "text": [
      "GTSRB-trainImages.pbz2          GTSRB_Final_Training_Images.zip\n",
      "GTSRB-trainLabels.pbz2          signnames.csv\n",
      "GTSRB_Final_Test_Images.zip\n"
     ]
    }
   ],
   "source": [
    "COLAB = 'google.colab' in str(get_ipython())\n",
    "COMPRESS = False\n",
    "\n",
    "if not COLAB:\n",
    "    path = 'data'\n",
    "else:\n",
    "    from google.colab import drive\n",
    "    drive.mount('/content/drive')\n",
    "    path = '/content/drive//MyDrive/DL4CV-2022/GTSRB/'\n",
    "    sys.path.insert(0, '/content/drive/MyDrive/DL4CV-2022/GTSRB/utilities')\n",
    "    \n",
    "!ls $path"
   ]
  },
  {
   "cell_type": "code",
   "execution_count": 4,
   "id": "28541281-2950-4582-8e8b-4fa344b0a9e1",
   "metadata": {},
   "outputs": [],
   "source": [
    "import p1_utilities as util"
   ]
  },
  {
   "cell_type": "code",
   "execution_count": 5,
   "id": "d23c782f-195b-4e84-a1c1-8dd1c7201dc3",
   "metadata": {},
   "outputs": [],
   "source": [
    "if COMPRESS:\n",
    "  pass\n",
    "else:\n",
    "  trainImages = util.decompress_pickle(path + '/GTSRB-trainImages.pbz2') \n",
    "  trainLabels = util.decompress_pickle(path + '/GTSRB-trainLabels.pbz2') "
   ]
  },
  {
   "cell_type": "code",
   "execution_count": 6,
   "id": "22e74a99-fe50-4cdc-bd56-38765b5a8e8b",
   "metadata": {},
   "outputs": [
    {
     "name": "stdout",
     "output_type": "stream",
     "text": [
      "39209 39209\n"
     ]
    }
   ],
   "source": [
    "print (len(trainLabels), len(trainImages))"
   ]
  },
  {
   "cell_type": "code",
   "execution_count": 7,
   "id": "3f938a57-b734-49eb-bc93-cc030b77a5dc",
   "metadata": {},
   "outputs": [
    {
     "data": {
      "image/png": "[encoded data removed]",
      "text/plain": [
       "<Figure size 432x288 with 1 Axes>"
      ]
     },
     "metadata": {
      "needs_background": "light"
     },
     "output_type": "display_data"
    }
   ],
   "source": [
    "plt.imshow(trainImages[42])\n",
    "plt.show()"
   ]
  },
  {
   "cell_type": "code",
   "execution_count": null,
   "id": "ba64d925-7e3c-4e03-aa0a-48f4675d6658",
   "metadata": {},
   "outputs": [],
   "source": []
  }
 ],
 "metadata": {
  "kernelspec": {
   "display_name": "Python 3 (ipykernel)",
   "language": "python",
   "name": "python3"
  },
  "language_info": {
   "codemirror_mode": {
    "name": "ipython",
    "version": 3
   },
   "file_extension": ".py",
   "mimetype": "text/x-python",
   "name": "python",
   "nbconvert_exporter": "python",
   "pygments_lexer": "ipython3",
   "version": "3.8.12"
  }
 },
 "nbformat": 4,
 "nbformat_minor": 5
}
