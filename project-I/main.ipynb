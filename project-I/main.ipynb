{
  "cells": [
    {
      "cell_type": "markdown",
      "id": "f9556229",
      "metadata": {
        "id": "f9556229"
      },
      "source": [
        "## DL4CV Mid-Term Project (Spring, 2022)\n",
        "###### Gerald McCollam\n",
        "\n",
        "### Requirements\n",
        "This project has been developed to run on Google Colab as an Jupyter notebook. No dependencies beyond what Colab supplies are required. It is recommended that the Colab runtime be set to 'GPU' and 'High Ram' but it will execute fine if these are unset. \n",
        "\n",
        "If a library is missing it may be installed into a Colab session with the following:  \n",
        "\n",
        "```bash\n",
        "!pip install <library>\n",
        "```\n",
        "\n",
        "If a runtime error occurs it is likely related to connection issues between Colab and Google Drive, or to input data not being available in the required form. The instructors have provided no guidance regarding how the GTSRB dataset should be made available for this assignment to run in a different environment; this has been left to the student to determine. \n",
        "\n",
        "#### Data Loading\n",
        "First, if running Colab with Drive, create the directory 'DL4CV-2022' in your home directory and clone [this Github repository](git@github.com:geraldmc/DL4CV-2022.git) into DL4CV-2022. Your gdrive_path to the project should then look like the following:  \n",
        "\n",
        "    gdrive_path = '/content/drive//MyDrive/DL4CV-2022/project-I/'\n",
        "\n",
        "The notebook will attempt to load three zipped data files. \n",
        "\n",
        "    zip_path_train = gdrive_path + 'data/Final_Training.zip'\n",
        "    zip_path_val = gdrive_path + 'data/Final_Validation.zip'\n",
        "    zip_path_test = gdrive_path + 'data/Final_Test.zip'\n",
        "\n",
        "Two of these (Final_Training.zip, Final_Test.zip) have been created by downloading from the GTSRB download site. The files used for the assignment are:\n",
        "\n",
        "[GTSRB_Final_Training_Images.zip](https://sid.erda.dk/public/archives/daaeac0d7ce1152aea9b61d9f1e19370/GTSRB_Final_Training_Images.zip)\n",
        "\n",
        "[GTSRB_Final_Test_Images.zip](https://sid.erda.dk/public/archives/daaeac0d7ce1152aea9b61d9f1e19370/GTSRB_Final_Test_Images.zip)\n",
        "\n",
        "The directory structure for the unzipped files is the following:\n",
        "\n",
        "```\n",
        "- Final_Training\n",
        "  - Annotations\n",
        "    - GT_Training.csv (this file is required)\n",
        "    - GT-00000.csv\n",
        "    - GT-00001.csv\n",
        "  - Images\n",
        "    - 00000\n",
        "      - 00000_00000.ppm\n",
        "      - 00000_00001.ppm\n",
        "    - 00001\n",
        "      - 00000_00000.ppm\n",
        "      - 00000_00001.ppm\n",
        "    - ...\n",
        "\n",
        "- Final_Test\n",
        "  - Images\n",
        "    - 01089.ppm\n",
        "    - 01090.ppm\n",
        "    - ...\n",
        "```\n",
        "The file 'Final_Validation.zip' was created by using images 00000\\*, 00001\\* and 00002\\* from each class in the training set. There are 23,220 files in the augmented validation set and 3,900 in the unaugmented set.   \n",
        "\n",
        "#### Running \n",
        "Execute the Jupyter notebook `DL4CV-2022/project-I/main.ipynb`. It will run to completion using the `Run All` command in Colab.\n",
        "\n",
        "#### Issues\n",
        "If there are any questions please do not hesitate to text me at gerald.mccollam@gmail.com."
      ]
    },
    {
      "cell_type": "code",
      "execution_count": 1,
      "id": "8db81a50-bfd1-4fa8-be5b-cc81c0814c97",
      "metadata": {
        "id": "8db81a50-bfd1-4fa8-be5b-cc81c0814c97"
      },
      "outputs": [],
      "source": [
        "import os\n",
        "import argparse\n",
        "import numpy as np\n",
        "import torch\n",
        "import torch.nn as nn\n",
        "import torch.nn.functional as F\n",
        "import torch.optim as optim\n",
        "from torch.autograd import Variable\n",
        "import torch.utils.data as data\n",
        "import torchvision\n",
        "from torchvision import datasets, transforms\n",
        "from torchsummary import summary"
      ]
    },
    {
      "cell_type": "code",
      "execution_count": 2,
      "id": "061ab42c",
      "metadata": {
        "id": "061ab42c"
      },
      "outputs": [],
      "source": [
        "# Automatic reloading and inline plotting\n",
        "%reload_ext autoreload\n",
        "%autoreload 2\n",
        "%matplotlib inline\n",
        "\n",
        "import warnings\n",
        "warnings.filterwarnings('ignore')"
      ]
    },
    {
      "cell_type": "code",
      "execution_count": 3,
      "id": "e59d4a65-6227-4a6a-a8fd-7277b6378e70",
      "metadata": {
        "colab": {
          "base_uri": "https://localhost:8080/"
        },
        "id": "e59d4a65-6227-4a6a-a8fd-7277b6378e70",
        "outputId": "9784378a-389c-45b2-acf3-c61787ac63f3"
      },
      "outputs": [
        {
          "output_type": "stream",
          "name": "stdout",
          "text": [
            "Drive not mounted, so nothing to flush and unmount.\n",
            "Mounted at /content/drive\n",
            "Using GPU\n"
          ]
        }
      ],
      "source": [
        "import sys\n",
        "\n",
        "COLAB = 'google.colab' in str(get_ipython())\n",
        "HAS_GPU = torch.cuda.is_available()\n",
        "is_local = not COLAB\n",
        "\n",
        "if COLAB: # running on Colab\n",
        "    \n",
        "    from google.colab import drive\n",
        "    drive.flush_and_unmount()\n",
        "    \n",
        "    drive.mount('/content/drive', force_remount=True)\n",
        "    gdrive_path = '/content/drive//MyDrive/DL4CV-2022/project-I/'\n",
        "    sys.path.append(gdrive_path)\n",
        "\n",
        "    zip_path_train = gdrive_path + 'data/Final_Training.zip'\n",
        "    zip_path_val = gdrive_path + 'data/Final_Validation.zip'\n",
        "    zip_path_test = gdrive_path + 'data/Final_Test.zip'\n",
        "    !unzip -q \"{zip_path_train}\"\n",
        "    !unzip -q \"{zip_path_val}\"\n",
        "    !unzip -q \"{zip_path_test}\"\n",
        "    \n",
        "    if HAS_GPU:\n",
        "        print(\"Using GPU\")\n",
        "else:\n",
        "    HAS_GPU = False\n",
        "    print(\"Using CPU\")\n",
        "\n",
        "# If we run cuda then accomodate these datatypes.\n",
        "FloatTensor = torch.cuda.FloatTensor if HAS_GPU else torch.FloatTensor\n",
        "LongTensor = torch.cuda.LongTensor if HAS_GPU else torch.LongTensor\n",
        "ByteTensor = torch.cuda.ByteTensor if HAS_GPU else torch.ByteTensor\n",
        "Tensor = FloatTensor"
      ]
    },
    {
      "cell_type": "code",
      "execution_count": 4,
      "id": "8abfcf83-83fa-4236-81a1-0e92d4d89196",
      "metadata": {
        "id": "8abfcf83-83fa-4236-81a1-0e92d4d89196"
      },
      "outputs": [],
      "source": [
        "import loader.args as load_args\n",
        "args = load_args.get_args(is_local)\n",
        "\n",
        "TRAIN_DATA_PATH = args.data_dir_train\n",
        "VAL_DATA_PATH = args.data_dir_val\n",
        "TEST_DATA_PATH = args.data_dir_test\n",
        "BATCH_SIZE = args.batch_size\n",
        "EPOCHS = args.num_epochs\n",
        "BATCH_SIZE = args.batch_size\n",
        "LEARNING_RATE = args.learning_rate"
      ]
    },
    {
      "cell_type": "code",
      "execution_count": 5,
      "id": "abff6254-15ea-4d9c-88f9-aa442cbba976",
      "metadata": {
        "id": "abff6254-15ea-4d9c-88f9-aa442cbba976"
      },
      "outputs": [],
      "source": [
        "from loader import transforms as tfs\n",
        "from torch.utils.data import Dataset\n",
        "from loader.gtsrb_data import GTSRB_Test\n",
        "from utils.tensor2image import imshow\n",
        "\n",
        "train_data = datasets.ImageFolder(\n",
        "    root=TRAIN_DATA_PATH, \n",
        "    transform=tfs.base_transform)\n",
        "train_loader = data.DataLoader(train_data, \n",
        "    batch_size=BATCH_SIZE, shuffle=True,  \n",
        "    num_workers=2)\n",
        "\n",
        "val_data = datasets.ImageFolder(\n",
        "    root=VAL_DATA_PATH, \n",
        "    transform=tfs.base_transform)\n",
        "val_loader  = data.DataLoader(val_data, \n",
        "    batch_size=BATCH_SIZE, shuffle=False, \n",
        "    num_workers=2)"
      ]
    },
    {
      "cell_type": "code",
      "execution_count": 6,
      "id": "hnicrnVZTPe9",
      "metadata": {
        "id": "hnicrnVZTPe9"
      },
      "outputs": [],
      "source": [
        "if COLAB:\n",
        "    GTSRB_test_dataset = GTSRB_Test('/content/')\n",
        "    \n",
        "else:\n",
        "    GTSRB_test_dataset = GTSRB_Test('data/')\n",
        "\n",
        "assert len(GTSRB_test_dataset) == 12630\n",
        "\n",
        "test_loader = data.DataLoader(GTSRB_test_dataset, \n",
        "    batch_size=BATCH_SIZE, shuffle=False, \n",
        "    num_workers=2)"
      ]
    },
    {
      "cell_type": "code",
      "execution_count": 7,
      "id": "21383d32-698e-442c-95d6-ae15ac5476bf",
      "metadata": {
        "colab": {
          "base_uri": "https://localhost:8080/"
        },
        "id": "21383d32-698e-442c-95d6-ae15ac5476bf",
        "outputId": "fe4656a0-4a75-4b3e-ab7c-fbfea6010acc"
      },
      "outputs": [
        {
          "output_type": "stream",
          "name": "stdout",
          "text": [
            "\n",
            "Unaugmented dataset: 39250 training samples & 3900 validation samples\n",
            "\n"
          ]
        }
      ],
      "source": [
        "# Without augmentation\n",
        "assert len(train_loader)*50 == 39250\n",
        "assert len(val_loader)*50 == 3900\n",
        "assert len(test_loader)*50 == 12650\n",
        "print()\n",
        "print('Unaugmented dataset: %d training samples & %d validation samples\\n' % (\n",
        "len(train_loader)*args.batch_size, len(val_loader)*args.batch_size))"
      ]
    },
    {
      "cell_type": "code",
      "execution_count": 8,
      "id": "6ef4c9c6-7229-412b-9000-d481c65d6505",
      "metadata": {
        "id": "6ef4c9c6-7229-412b-9000-d481c65d6505"
      },
      "outputs": [],
      "source": [
        "from model.models import Net1\n",
        "\n",
        "# Reset everything\n",
        "model = None\n",
        "optimizer = None\n",
        "scheduler = None\n",
        "\n",
        "model = Net1()\n",
        "if HAS_GPU:\n",
        "    model.cuda()\n",
        "\n",
        "# Optimizer is updated to *not* include non-gradient weights.    \n",
        "optimizer = optim.Adam(filter(lambda p: p.requires_grad, model.parameters()),\n",
        "                                                      lr=args.learning_rate)\n",
        "# Reduce learning rate when a metric has stopped improving. \n",
        "scheduler = optim.lr_scheduler.ReduceLROnPlateau(optimizer, 'min',\n",
        "                                                 patience=5,\n",
        "                                                 factor=0.5,\n",
        "                                                 verbose=True)"
      ]
    },
    {
      "cell_type": "code",
      "execution_count": 9,
      "id": "f585db72-db78-4fee-b18a-67aaef33de9b",
      "metadata": {
        "colab": {
          "base_uri": "https://localhost:8080/"
        },
        "id": "f585db72-db78-4fee-b18a-67aaef33de9b",
        "outputId": "76ae4a31-4ea0-476b-d8e6-9fb0cf9f01bf"
      },
      "outputs": [
        {
          "output_type": "stream",
          "name": "stdout",
          "text": [
            "----------------------------------------------------------------\n",
            "        Layer (type)               Output Shape         Param #\n",
            "================================================================\n",
            "            Conv2d-1            [-1, 8, 26, 26]           1,184\n",
            "         MaxPool2d-2            [-1, 8, 13, 13]               0\n",
            "              ReLU-3            [-1, 8, 13, 13]               0\n",
            "            Conv2d-4             [-1, 10, 9, 9]           2,010\n",
            "         MaxPool2d-5             [-1, 10, 4, 4]               0\n",
            "              ReLU-6             [-1, 10, 4, 4]               0\n",
            "            Linear-7                   [-1, 32]           5,152\n",
            "              ReLU-8                   [-1, 32]               0\n",
            "            Linear-9                    [-1, 6]             198\n",
            "           Conv2d-10          [-1, 100, 28, 28]           7,600\n",
            "      BatchNorm2d-11          [-1, 100, 14, 14]             200\n",
            "        Dropout2d-12          [-1, 100, 14, 14]               0\n",
            "           Conv2d-13          [-1, 150, 12, 12]         135,150\n",
            "      BatchNorm2d-14            [-1, 150, 6, 6]             300\n",
            "        Dropout2d-15            [-1, 150, 6, 6]               0\n",
            "           Conv2d-16            [-1, 250, 4, 4]         337,750\n",
            "      BatchNorm2d-17            [-1, 250, 2, 2]             500\n",
            "        Dropout2d-18            [-1, 250, 2, 2]               0\n",
            "           Linear-19                  [-1, 350]         350,350\n",
            "           Linear-20                   [-1, 43]          15,093\n",
            "================================================================\n",
            "Total params: 855,487\n",
            "Trainable params: 855,487\n",
            "Non-trainable params: 0\n",
            "----------------------------------------------------------------\n",
            "Input size (MB): 0.01\n",
            "Forward/backward pass size (MB): 1.26\n",
            "Params size (MB): 3.26\n",
            "Estimated Total Size (MB): 4.54\n",
            "----------------------------------------------------------------\n"
          ]
        }
      ],
      "source": [
        "summary(model,(3,32,32))"
      ]
    },
    {
      "cell_type": "code",
      "execution_count": 10,
      "id": "8c05cef4-43cc-43af-b82b-59fdbbcf365f",
      "metadata": {
        "id": "8c05cef4-43cc-43af-b82b-59fdbbcf365f"
      },
      "outputs": [],
      "source": [
        "from utils.meter import AvgMeter, calc_accuracy\n",
        "\n",
        "train_losses = []\n",
        "train_accuracies = []\n",
        "\n",
        "'''\n",
        "    .                       o8o\n",
        "  .o8                       `\"'\n",
        ".o888oo oooo d8b  .oooo.   oooo  ooo. .oo.\n",
        "  888   `888\"\"8P `P  )88b  `888  `888P\"Y88b\n",
        "  888    888      .oP\"888   888   888   888\n",
        "  888 .  888     d8(  888   888   888   888\n",
        "  \"888\" d888b    `Y888\"\"8o o888o o888o o888o\n",
        "'''\n",
        "\n",
        "def train(epoch):\n",
        "    print()\n",
        "    print('Epoch {} -------------------------------------------------------->'.format(epoch) )\n",
        "    print()\n",
        "    losses = AvgMeter()\n",
        "    accuracies = AvgMeter()\n",
        "    model.train()\n",
        "    correct = 0\n",
        "    training_loss = 0\n",
        "    \n",
        "    for batch_idx, (data, target) in enumerate(train_loader):\n",
        "        data, target = Variable(data), Variable(target)\n",
        "        if HAS_GPU:\n",
        "            data = data.cuda()\n",
        "            target = target.cuda()\n",
        "        optimizer.zero_grad()\n",
        "        output = model(data)\n",
        "        loss = F.nll_loss(output, target)\n",
        "        \n",
        "        losses.update(loss.item(), data.size(0))\n",
        "        accuracy = calc_accuracy(output, target)[0]\n",
        "        train_accuracies.append(int(accuracy))\n",
        "        accuracies.update(accuracy, data.size(0))\n",
        "        \n",
        "        loss.backward()\n",
        "        optimizer.step()\n",
        "        max_index = output.max(dim = 1)[1] # _, predicted\n",
        "        correct += (max_index == target).sum()\n",
        "        training_loss += loss\n",
        "        \n",
        "        if batch_idx % args.log_interval == 0:\n",
        "            print('Training set: Average loss: {:.4f}, Accuracy: {}/{} ({:.3f}%)\\n'.format(\n",
        "            losses.avg, int(accuracies.sum/100), accuracies.count, accuracies.avg))\n",
        "    \n",
        "    return train_accuracies"
      ]
    },
    {
      "cell_type": "code",
      "execution_count": 11,
      "id": "292c2c5e-2636-414b-bf0a-7a2f181e8b7c",
      "metadata": {
        "id": "292c2c5e-2636-414b-bf0a-7a2f181e8b7c"
      },
      "outputs": [],
      "source": [
        "val_losses = []\n",
        "val_accuracies = []\n",
        "\n",
        "'''\n",
        "                      oooo\n",
        "                      `888\n",
        "oooo    ooo  .oooo.    888\n",
        " `88.  .8'  `P  )88b   888\n",
        "  `88..8'    .oP\"888   888\n",
        "   `888'    d8(  888   888\n",
        "    `8'     `Y888\"\"8o o888o\n",
        "'''\n",
        "\n",
        "def validate(epoch):\n",
        "    losses = AvgMeter()\n",
        "    accuracies = AvgMeter()\n",
        "    error_cases = []\n",
        "    \n",
        "    model.eval() # changes the forward() behaviour of the module for val/test.\n",
        "    \n",
        "    with torch.no_grad(): # disable tracking of gradients in autograd.\n",
        "        for data, target in val_loader:\n",
        "            if HAS_GPU:\n",
        "                data = data.cuda()\n",
        "                target = target.cuda()\n",
        "            output = model(data)\n",
        "            loss = F.nll_loss(output, target)\n",
        "\n",
        "            losses.update(loss.item(), data.size(0))\n",
        "            accuracy = calc_accuracy(output, target)[0]\n",
        "            val_accuracies.append(accuracy)\n",
        "            accuracies.update(accuracy, data.size(0))\n",
        "\n",
        "            _, pred = output.topk(1, 1, True, True)\n",
        "            pred = pred.t()\n",
        "\n",
        "        print('\\nValidation set: Average loss: {:.4f}, Accuracy: {}/{} ({:.2f}%)\\n'.format(\n",
        "            losses.avg, int(accuracies.sum/100), accuracies.count, accuracies.avg))\n",
        "\n",
        "    return val_accuracies"
      ]
    },
    {
      "cell_type": "code",
      "execution_count": 12,
      "id": "4f69203a-a1a8-487b-a64e-294519880ade",
      "metadata": {
        "id": "4f69203a-a1a8-487b-a64e-294519880ade"
      },
      "outputs": [],
      "source": [
        "import numpy as np\n",
        "import pandas as pd\n",
        "import sklearn.metrics as sm\n",
        "\n",
        "'''\n",
        "    .                          .\n",
        "  .o8                        .o8\n",
        "888oo  .ooooo.   .oooo.o .o888oo\n",
        "  888   d88' `88b d88(  \"8   888\n",
        "  888   888ooo888 `\"Y88b.    888\n",
        "  888 . 888    .o o.  )88b   888 .\n",
        "  \"888\" `Y8bod8P' 8\"\"888P'   \"888\"\n",
        "'''\n",
        "\n",
        "def test(test_loader):\n",
        "    model.eval()\n",
        "    correct = 0\n",
        "    targets, preds = [], []\n",
        "    \n",
        "    with torch.no_grad():\n",
        "        for data, target in test_loader:\n",
        "            if HAS_GPU:\n",
        "                data = data.cuda()\n",
        "                target = target.cuda()\n",
        "            output = model(data)\n",
        "            pred = output.max(1, keepdim=True)[1] # get the index of the max log-probability\n",
        "            correct += pred.eq(target.view_as(pred)).sum().item()\n",
        "\n",
        "            targets += list(target.cpu().numpy())\n",
        "            preds += list(pred.cpu().numpy())\n",
        "\n",
        "    test_acc = 100. * correct / len(test_loader.dataset)\n",
        "    confusion_mtx = sm.confusion_matrix(targets, preds)\n",
        "    return test_acc, confusion_mtx"
      ]
    },
    {
      "cell_type": "code",
      "execution_count": 13,
      "id": "9ddafcd9-6772-4350-afb8-f25e638968ff",
      "metadata": {
        "colab": {
          "base_uri": "https://localhost:8080/"
        },
        "id": "9ddafcd9-6772-4350-afb8-f25e638968ff",
        "outputId": "a3766c51-7693-4a1d-bc57-27643a95adae"
      },
      "outputs": [
        {
          "output_type": "stream",
          "name": "stdout",
          "text": [
            "\n",
            "Epoch 1 -------------------------------------------------------->\n",
            "\n",
            "Training set: Average loss: 3.9831, Accuracy: 1/50 (2.000%)\n",
            "\n",
            "Training set: Average loss: 3.4322, Accuracy: 1142/10050 (11.363%)\n",
            "\n",
            "Training set: Average loss: 3.0702, Accuracy: 3943/20050 (19.666%)\n",
            "\n",
            "Training set: Average loss: 2.7371, Accuracy: 8204/30050 (27.301%)\n",
            "\n",
            "\n",
            "Validation set: Average loss: 1.5650, Accuracy: 2215/3870 (57.24%)\n",
            "\n",
            "\n",
            " --> Testing set: Accuracy (Best) = 73.78%\n",
            "\n",
            "Epoch 2 -------------------------------------------------------->\n",
            "\n",
            "Training set: Average loss: 1.3632, Accuracy: 33/50 (66.000%)\n",
            "\n",
            "Training set: Average loss: 1.0855, Accuracy: 6996/10050 (69.612%)\n",
            "\n",
            "Training set: Average loss: 0.9349, Accuracy: 14859/20050 (74.110%)\n",
            "\n",
            "Training set: Average loss: 0.8157, Accuracy: 23275/30050 (77.454%)\n",
            "\n",
            "\n",
            "Validation set: Average loss: 0.3412, Accuracy: 3542/3870 (91.52%)\n",
            "\n",
            "\n",
            " --> Testing set: Accuracy (Best) = 92.65%\n",
            "\n",
            "Epoch 3 -------------------------------------------------------->\n",
            "\n",
            "Training set: Average loss: 0.3802, Accuracy: 46/50 (92.000%)\n",
            "\n",
            "Training set: Average loss: 0.3644, Accuracy: 9113/10050 (90.677%)\n",
            "\n",
            "Training set: Average loss: 0.3363, Accuracy: 18321/20050 (91.377%)\n",
            "\n",
            "Training set: Average loss: 0.3131, Accuracy: 27622/30050 (91.920%)\n",
            "\n",
            "\n",
            "Validation set: Average loss: 0.1205, Accuracy: 3772/3870 (97.47%)\n",
            "\n",
            "\n",
            " --> Testing set: Accuracy (Best) = 95.65%\n",
            "\n",
            "Epoch 4 -------------------------------------------------------->\n",
            "\n",
            "Training set: Average loss: 0.1559, Accuracy: 47/50 (94.000%)\n",
            "\n",
            "Training set: Average loss: 0.2017, Accuracy: 9502/10050 (94.547%)\n",
            "\n",
            "Training set: Average loss: 0.1926, Accuracy: 19027/20050 (94.898%)\n",
            "\n",
            "Training set: Average loss: 0.1831, Accuracy: 28615/30050 (95.225%)\n",
            "\n",
            "\n",
            "Validation set: Average loss: 0.0688, Accuracy: 3819/3870 (98.68%)\n",
            "\n",
            "\n",
            " --> Testing set: Accuracy (Best) = 96.73%\n",
            "\n",
            "Epoch 5 -------------------------------------------------------->\n",
            "\n",
            "Training set: Average loss: 0.1137, Accuracy: 48/50 (96.000%)\n",
            "\n",
            "Training set: Average loss: 0.1348, Accuracy: 9717/10050 (96.687%)\n",
            "\n",
            "Training set: Average loss: 0.1280, Accuracy: 19417/20050 (96.843%)\n",
            "\n",
            "Training set: Average loss: 0.1230, Accuracy: 29119/30050 (96.902%)\n",
            "\n",
            "\n",
            "Validation set: Average loss: 0.0428, Accuracy: 3838/3870 (99.17%)\n",
            "\n",
            "\n",
            " --> Testing set: Accuracy (Best) = 97.33%\n"
          ]
        }
      ],
      "source": [
        "training_accuracy = []\n",
        "validation_accuracy = []\n",
        "test_accuracy = []\n",
        "confusion = [] \n",
        "\n",
        "for epoch in range(1, args.num_epochs + 1):\n",
        "    training_accuracy.append(train(epoch))\n",
        "    validation_accuracy.append(validate(epoch))\n",
        "    test_acc, confusion_mtx = test(test_loader)\n",
        "    test_accuracy.append(test_acc)\n",
        "    confusion.append(confusion_mtx)\n",
        "    print()\n",
        "    print('\\r --> Testing set: Accuracy (Best) = %2.2f%%' % max(test_accuracy), \n",
        "          end='', flush=True)\n",
        "    print()\n",
        "\n",
        "#model_file = 'model_' + str(epoch) + '.pth'\n",
        "#torch.save(model.state_dict(), model_file)"
      ]
    },
    {
      "cell_type": "code",
      "execution_count": 14,
      "id": "6b4359fa-ad17-4308-bd14-5c334bb8566e",
      "metadata": {
        "colab": {
          "base_uri": "https://localhost:8080/",
          "height": 295
        },
        "id": "6b4359fa-ad17-4308-bd14-5c334bb8566e",
        "outputId": "ee71c35b-c75e-47bf-e961-79f8eb34e46c"
      },
      "outputs": [
        {
          "output_type": "display_data",
          "data": {
            "text/plain": [
              "<Figure size 432x288 with 1 Axes>"
            ],
            "image/png": "[encoded data removed]"
          },
          "metadata": {
            "needs_background": "light"
          }
        }
      ],
      "source": [
        "import matplotlib.pyplot as plt\n",
        "\n",
        "# Plot accuracy\n",
        "plt.plot(training_accuracy[0],'-o', markersize=.5)\n",
        "plt.plot(validation_accuracy[0],'-o', markersize=.5)\n",
        "plt.xlabel('Sample # per Epoch')\n",
        "plt.ylabel('Accuracy')\n",
        "plt.legend(['Train','Valid'])\n",
        "plt.title('Train vs Valid Accuracy per Epoch (Best)')\n",
        "None\n",
        "# Reset\n",
        "training_accuracy = None\n",
        "validation_accuracy = None"
      ]
    },
    {
      "cell_type": "code",
      "execution_count": 15,
      "id": "2a51a14f-0cd8-442e-9a36-d8998501d421",
      "metadata": {
        "colab": {
          "base_uri": "https://localhost:8080/",
          "height": 318
        },
        "id": "2a51a14f-0cd8-442e-9a36-d8998501d421",
        "outputId": "7cfb7237-3605-4a80-d8c3-9192a7000979"
      },
      "outputs": [
        {
          "output_type": "stream",
          "name": "stdout",
          "text": [
            "Dataset: 39209 training samples & 12630 testing samples\n",
            "\n",
            "Distribution of classes in training dataset:\n"
          ]
        },
        {
          "output_type": "display_data",
          "data": {
            "text/plain": [
              "<Figure size 432x288 with 1 Axes>"
            ],
            "image/png": "[encoded data removed]"
          },
          "metadata": {
            "needs_background": "light"
          }
        }
      ],
      "source": [
        "import matplotlib.pyplot as plt\n",
        "print('Dataset: %d training samples & %d testing samples\\n' % (\n",
        "    len(train_loader.dataset), len(test_loader.dataset)))\n",
        " \n",
        "print('Distribution of classes in training dataset:')\n",
        "fig, ax = plt.subplots()\n",
        "labels = [label for _, label in train_loader.dataset.imgs]\n",
        "class_labels, counts = np.unique(labels, return_counts=True)\n",
        "ax.bar(class_labels, counts)\n",
        "ax.set_xticks(class_labels)\n",
        "plt.show()"
      ]
    },
    {
      "cell_type": "code",
      "execution_count": 16,
      "id": "rxwmCvpC0UFY",
      "metadata": {
        "colab": {
          "base_uri": "https://localhost:8080/"
        },
        "id": "rxwmCvpC0UFY",
        "outputId": "32751a88-e9bd-4411-eb56-ce7b756bed53"
      },
      "outputs": [
        {
          "output_type": "stream",
          "name": "stdout",
          "text": [
            "Distribution of classes ranges from 210 to 2250.\n"
          ]
        }
      ],
      "source": [
        "idx2class = {v: k for k, v in train_data.class_to_idx.items()}\n",
        "\n",
        "def get_class_distribution(dataset_obj):\n",
        "    count_dict = {k:0 for k,v in dataset_obj.class_to_idx.items()}\n",
        "    \n",
        "    for element in dataset_obj:\n",
        "        y_lbl = element[1]\n",
        "        y_lbl = idx2class[y_lbl]\n",
        "        count_dict[y_lbl] += 1\n",
        "            \n",
        "    return count_dict\n",
        "\n",
        "class_distro = get_class_distribution(train_data)\n",
        "print(\"Distribution of classes ranges from {} to {}.\".format\n",
        "      (min(class_distro.values()), max(class_distro.values())))\n"
      ]
    },
    {
      "cell_type": "code",
      "execution_count": 17,
      "id": "c02829ed-9671-46d6-9597-c15c701cce8e",
      "metadata": {
        "colab": {
          "base_uri": "https://localhost:8080/",
          "height": 280
        },
        "id": "c02829ed-9671-46d6-9597-c15c701cce8e",
        "outputId": "a6771600-7f6a-4ab0-9f1b-e011dd2667d3"
      },
      "outputs": [
        {
          "output_type": "display_data",
          "data": {
            "text/plain": [
              "<Figure size 720x288 with 3 Axes>"
            ],
            "image/png": "[encoded data removed]"
          },
          "metadata": {
            "needs_background": "light"
          }
        }
      ],
      "source": [
        "from utils.visualize import visual\n",
        "\n",
        "visual(test_accuracy, confusion, class_labels)"
      ]
    },
    {
      "cell_type": "code",
      "execution_count": 18,
      "id": "f05925f9-ed14-4c88-a89c-7ed0776e6a70",
      "metadata": {
        "id": "f05925f9-ed14-4c88-a89c-7ed0776e6a70"
      },
      "outputs": [],
      "source": [
        "from loader.imbalanced import ImbalancedDatasetSampler\n",
        "from loader import transforms as tfs\n",
        "from torch.utils.data import Dataset\n",
        "from loader.gtsrb_data import GTSRB_Test\n",
        "\n",
        "train_data = None\n",
        "val_data = None\n",
        "train_loader = None\n",
        "val_loader = None\n",
        "GTSRB_test_dataset = None\n",
        "test_loader = None\n",
        "\n",
        "# Reload everything\n",
        "train_data = datasets.ImageFolder(\n",
        "    root=TRAIN_DATA_PATH, \n",
        "    transform=tfs.base_transform)\n",
        "train_loader = data.DataLoader(train_data, \n",
        "    batch_size=BATCH_SIZE, \n",
        "    sampler=ImbalancedDatasetSampler(train_data), \n",
        "    num_workers=2)\n",
        "\n",
        "val_data = datasets.ImageFolder(\n",
        "    root=VAL_DATA_PATH, \n",
        "    transform=tfs.base_transform)\n",
        "val_loader = data.DataLoader(val_data, \n",
        "    batch_size=BATCH_SIZE, \n",
        "    sampler=ImbalancedDatasetSampler(val_data), # <----- data sampler\n",
        "    num_workers=2)\n",
        "\n",
        "if COLAB:\n",
        "    GTSRB_test_dataset = GTSRB_Test('/content/')\n",
        "    \n",
        "else:\n",
        "    GTSRB_test_dataset = GTSRB_Test('data/')\n",
        "\n",
        "assert len(GTSRB_test_dataset) == 12630\n",
        "\n",
        "test_loader = data.DataLoader(GTSRB_test_dataset, \n",
        "    batch_size=BATCH_SIZE, shuffle=False, \n",
        "    num_workers=2)\n"
      ]
    },
    {
      "cell_type": "code",
      "execution_count": 19,
      "id": "GeRG4-qdRg4H",
      "metadata": {
        "id": "GeRG4-qdRg4H"
      },
      "outputs": [],
      "source": [
        "from model.models import Net1\n",
        "\n",
        "# Reset\n",
        "model = None\n",
        "optimizer = None\n",
        "scheduler = None\n",
        "\n",
        "model = Net1()\n",
        "if HAS_GPU:\n",
        "    model.cuda()\n",
        "\n",
        "# Optimizer is updated to *not* include non-gradient weights.    \n",
        "optimizer = optim.Adam(filter(lambda p: p.requires_grad, model.parameters()),\n",
        "                                                      lr=args.learning_rate)\n",
        "# Reduce learning rate when a metric has stopped improving. \n",
        "scheduler = optim.lr_scheduler.ReduceLROnPlateau(optimizer, 'min',\n",
        "                                                 patience=5,\n",
        "                                                 factor=0.5,\n",
        "                                                 verbose=True)"
      ]
    },
    {
      "cell_type": "code",
      "execution_count": 20,
      "id": "040543d4-0d71-4170-bb05-03bee03d5eb3",
      "metadata": {
        "colab": {
          "base_uri": "https://localhost:8080/"
        },
        "id": "040543d4-0d71-4170-bb05-03bee03d5eb3",
        "outputId": "92ec021e-1a14-4bff-cd88-4586554797ef"
      },
      "outputs": [
        {
          "output_type": "stream",
          "name": "stdout",
          "text": [
            "\n",
            "Epoch 1 -------------------------------------------------------->\n",
            "\n",
            "Training set: Average loss: 3.8296, Accuracy: 1/50 (2.000%)\n",
            "\n",
            "Training set: Average loss: 3.5941, Accuracy: 682/10050 (6.786%)\n",
            "\n",
            "Training set: Average loss: 3.3174, Accuracy: 2522/20050 (12.579%)\n",
            "\n",
            "Training set: Average loss: 2.9982, Accuracy: 6127/30050 (20.389%)\n",
            "\n",
            "\n",
            "Validation set: Average loss: 1.0880, Accuracy: 3048/3870 (78.76%)\n",
            "\n",
            "\n",
            " --> Testing set: Accuracy (Best) = 71.11%\n",
            "\n",
            "Epoch 2 -------------------------------------------------------->\n",
            "\n",
            "Training set: Average loss: 1.3395, Accuracy: 33/50 (66.000%)\n",
            "\n",
            "Training set: Average loss: 1.1339, Accuracy: 6981/10050 (69.463%)\n",
            "\n",
            "Training set: Average loss: 0.9817, Accuracy: 14760/20050 (73.616%)\n",
            "\n",
            "Training set: Average loss: 0.8608, Accuracy: 23137/30050 (76.995%)\n",
            "\n",
            "\n",
            "Validation set: Average loss: 0.2402, Accuracy: 3755/3870 (97.03%)\n",
            "\n",
            "\n",
            " --> Testing set: Accuracy (Best) = 91.05%\n",
            "\n",
            "Epoch 3 -------------------------------------------------------->\n",
            "\n",
            "Training set: Average loss: 0.3913, Accuracy: 47/50 (94.000%)\n",
            "\n",
            "Training set: Average loss: 0.4063, Accuracy: 9035/10050 (89.900%)\n",
            "\n",
            "Training set: Average loss: 0.3635, Accuracy: 18245/20050 (90.998%)\n",
            "\n",
            "Training set: Average loss: 0.3355, Accuracy: 27526/30050 (91.601%)\n",
            "\n",
            "\n",
            "Validation set: Average loss: 0.1002, Accuracy: 3822/3870 (98.76%)\n",
            "\n",
            "\n",
            " --> Testing set: Accuracy (Best) = 95.45%\n",
            "\n",
            "Epoch 4 -------------------------------------------------------->\n",
            "\n",
            "Training set: Average loss: 0.3094, Accuracy: 47/50 (94.000%)\n",
            "\n",
            "Training set: Average loss: 0.2067, Accuracy: 9536/10050 (94.886%)\n",
            "\n",
            "Training set: Average loss: 0.1933, Accuracy: 19106/20050 (95.292%)\n",
            "\n",
            "Training set: Average loss: 0.1828, Accuracy: 28719/30050 (95.571%)\n",
            "\n",
            "\n",
            "Validation set: Average loss: 0.0475, Accuracy: 3837/3870 (99.15%)\n",
            "\n",
            "\n",
            " --> Testing set: Accuracy (Best) = 96.52%\n",
            "\n",
            "Epoch 5 -------------------------------------------------------->\n",
            "\n",
            "Training set: Average loss: 0.0565, Accuracy: 50/50 (100.000%)\n",
            "\n",
            "Training set: Average loss: 0.1226, Accuracy: 9751/10050 (97.025%)\n",
            "\n",
            "Training set: Average loss: 0.1203, Accuracy: 19451/20050 (97.012%)\n",
            "\n",
            "Training set: Average loss: 0.1166, Accuracy: 29168/30050 (97.065%)\n",
            "\n",
            "\n",
            "Validation set: Average loss: 0.0336, Accuracy: 3846/3870 (99.38%)\n",
            "\n",
            "\n",
            " --> Testing set: Accuracy (Best) = 97.28%\n"
          ]
        }
      ],
      "source": [
        "# Reset\n",
        "training_accuracy = []\n",
        "validation_accuracy = []\n",
        "test_accuracy = []\n",
        "confusion = [] \n",
        "test_acc = None\n",
        "confusion_mtx = None\n",
        "epoch = None\n",
        "\n",
        "for epoch in range(1, args.num_epochs + 1):\n",
        "    training_accuracy.append(train(epoch))\n",
        "    validation_accuracy.append(validate(epoch))\n",
        "    test_acc, confusion_mtx = test(test_loader)\n",
        "    test_accuracy.append(test_acc)\n",
        "    confusion.append(confusion_mtx)\n",
        "    print()\n",
        "    print('\\r --> Testing set: Accuracy (Best) = %2.2f%%' % max(test_accuracy), \n",
        "          end='', flush=True)\n",
        "    print()\n",
        "    \n",
        "#model_file = 'model_' + str(epoch) + '.pth'\n",
        "#torch.save(model.state_dict(), model_file)"
      ]
    },
    {
      "cell_type": "code",
      "execution_count": 21,
      "id": "hdGjn3caHkGC",
      "metadata": {
        "colab": {
          "base_uri": "https://localhost:8080/",
          "height": 280
        },
        "id": "hdGjn3caHkGC",
        "outputId": "ab12dbde-23a4-43ed-ef1c-c353fb1b5354"
      },
      "outputs": [
        {
          "output_type": "display_data",
          "data": {
            "text/plain": [
              "<Figure size 720x288 with 3 Axes>"
            ],
            "image/png": "[encoded data removed]"
          },
          "metadata": {
            "needs_background": "light"
          }
        }
      ],
      "source": [
        "from utils.visualize import visual\n",
        "\n",
        "visual(test_accuracy, confusion, class_labels)"
      ]
    },
    {
      "cell_type": "code",
      "execution_count": 22,
      "id": "6b3efedc",
      "metadata": {
        "id": "6b3efedc"
      },
      "outputs": [],
      "source": [
        "train_loader = None\n",
        "val_loader = None\n",
        "\n",
        "train_loader = torch.utils.data.DataLoader(\n",
        " torch.utils.data.ConcatDataset([datasets.ImageFolder(\n",
        "                                    TRAIN_DATA_PATH, \n",
        "                                    transform=tfs.base_transform),\n",
        "                               datasets.ImageFolder(\n",
        "                                    TRAIN_DATA_PATH,\n",
        "                                    transform=tfs.data_translate),\n",
        "                               datasets.ImageFolder(\n",
        "                                    TRAIN_DATA_PATH,\n",
        "                                    transform=tfs.data_grayscale),\n",
        "                               datasets.ImageFolder(\n",
        "                                    TRAIN_DATA_PATH,\n",
        "                                    transform=tfs.data_center),\n",
        "                               datasets.ImageFolder(\n",
        "                                    TRAIN_DATA_PATH,\n",
        "                                    transform=tfs.data_rotate),\n",
        "                               datasets.ImageFolder(\n",
        "                                    TRAIN_DATA_PATH,\n",
        "                                    transform=tfs.data_jitter_hue)]), \n",
        "                                    batch_size=args.batch_size, \n",
        "                                    shuffle=True, num_workers=2, \n",
        "                                    pin_memory=HAS_GPU)\n",
        "\n",
        "val_loader = torch.utils.data.DataLoader(\n",
        " torch.utils.data.ConcatDataset([datasets.ImageFolder(\n",
        "                                    VAL_DATA_PATH, \n",
        "                                    transform=tfs.base_transform),\n",
        "                               datasets.ImageFolder(\n",
        "                                    VAL_DATA_PATH,\n",
        "                                    transform=tfs.data_translate),\n",
        "                               datasets.ImageFolder(\n",
        "                                    VAL_DATA_PATH,\n",
        "                                    transform=tfs.data_grayscale),\n",
        "                               datasets.ImageFolder(\n",
        "                                    VAL_DATA_PATH,\n",
        "                                    transform=tfs.data_center),\n",
        "                               datasets.ImageFolder(\n",
        "                                    VAL_DATA_PATH,\n",
        "                                    transform=tfs.data_rotate),\n",
        "                               datasets.ImageFolder(\n",
        "                                    VAL_DATA_PATH,\n",
        "                                    transform=tfs.data_jitter_hue)]), \n",
        "                                    batch_size=args.batch_size, \n",
        "                                    shuffle=False, num_workers=2, \n",
        "                                    pin_memory=HAS_GPU)\n",
        "\n",
        "if COLAB:\n",
        "    GTSRB_test_dataset = GTSRB_Test('/content/')\n",
        "    \n",
        "else:\n",
        "    GTSRB_test_dataset = GTSRB_Test('data/')\n",
        "\n",
        "assert len(GTSRB_test_dataset) == 12630\n",
        "\n",
        "test_loader = data.DataLoader(GTSRB_test_dataset, \n",
        "    batch_size=BATCH_SIZE, shuffle=False, \n",
        "    num_workers=2)"
      ]
    },
    {
      "cell_type": "code",
      "execution_count": 23,
      "id": "WFGRAl1Ur5wH",
      "metadata": {
        "colab": {
          "base_uri": "https://localhost:8080/",
          "height": 320
        },
        "id": "WFGRAl1Ur5wH",
        "outputId": "85c8d846-14d1-44b7-d2f9-420b4494c298"
      },
      "outputs": [
        {
          "output_type": "stream",
          "name": "stdout",
          "text": [
            "Augmented dataset: 235254 training samples & 23220 validation samples\n",
            "\n",
            "Distribution of classes in augmented train dataset:\n"
          ]
        },
        {
          "output_type": "display_data",
          "data": {
            "text/plain": [
              "<Figure size 432x288 with 1 Axes>"
            ],
            "image/png": "[encoded data removed]"
          },
          "metadata": {
            "needs_background": "light"
          }
        }
      ],
      "source": [
        "print('Augmented dataset: %d training samples & %d validation samples\\n' % (\n",
        "    len(train_loader.dataset), len(val_loader.dataset)))\n",
        "\n",
        "# Get labels from concatenated datasets.\n",
        "train_dataset_list = train_loader.dataset.datasets\n",
        "train_concat_labels = []\n",
        "for ds in train_dataset_list:\n",
        "    train_concat_labels.extend(ds.targets)\n",
        "\n",
        "val_dataset_list = val_loader.dataset.datasets\n",
        "val_concat_labels = []\n",
        "for ds in val_dataset_list:\n",
        "    val_concat_labels.extend(ds.targets)\n",
        "\n",
        "class_labels = range(43)\n",
        "\n",
        "print('Distribution of classes in augmented train dataset:')\n",
        "fig, ax = plt.subplots()\n",
        "_, counts = np.unique(train_concat_labels, return_counts=True)\n",
        "ax.bar(class_labels, counts)\n",
        "ax.set_xticks(class_labels, minor=True)\n",
        "plt.show()"
      ]
    },
    {
      "cell_type": "code",
      "execution_count": 24,
      "id": "yCV_6h05r18X",
      "metadata": {
        "id": "yCV_6h05r18X"
      },
      "outputs": [],
      "source": [
        "from model.models import Net1\n",
        "\n",
        "# Reset\n",
        "model = None\n",
        "optimizer = None\n",
        "scheduler = None\n",
        "\n",
        "model = Net1()\n",
        "if HAS_GPU:\n",
        "    model.cuda()\n",
        "\n",
        "# Optimizer is updated to *not* include non-gradient weights.    \n",
        "optimizer = optim.Adam(filter(lambda p: p.requires_grad, model.parameters()),\n",
        "                                                      lr=args.learning_rate)\n",
        "# Reduce learning rate when a metric has stopped improving. \n",
        "scheduler = optim.lr_scheduler.ReduceLROnPlateau(optimizer, 'min',\n",
        "                                                 patience=5,\n",
        "                                                 factor=0.5,\n",
        "                                                 verbose=True)"
      ]
    },
    {
      "cell_type": "code",
      "execution_count": 25,
      "id": "cb38f062",
      "metadata": {
        "colab": {
          "base_uri": "https://localhost:8080/"
        },
        "id": "cb38f062",
        "outputId": "0cdcb4e3-3954-43b9-8a59-411035c5f908"
      },
      "outputs": [
        {
          "output_type": "stream",
          "name": "stdout",
          "text": [
            "\n",
            "Epoch 1 -------------------------------------------------------->\n",
            "\n",
            "Training set: Average loss: 3.9925, Accuracy: 1/50 (2.000%)\n",
            "\n",
            "Training set: Average loss: 3.4977, Accuracy: 1023/10050 (10.179%)\n",
            "\n",
            "Training set: Average loss: 3.2514, Accuracy: 3118/20050 (15.551%)\n",
            "\n",
            "Training set: Average loss: 3.0080, Accuracy: 6361/30050 (21.168%)\n",
            "\n",
            "Training set: Average loss: 2.7507, Accuracy: 10850/40050 (27.091%)\n",
            "\n",
            "Training set: Average loss: 2.4987, Accuracy: 16619/50050 (33.205%)\n",
            "\n",
            "Training set: Average loss: 2.2783, Accuracy: 23289/60050 (38.783%)\n",
            "\n",
            "Training set: Average loss: 2.0872, Accuracy: 30692/70050 (43.814%)\n",
            "\n",
            "Training set: Average loss: 1.9227, Accuracy: 38530/80050 (48.132%)\n",
            "\n",
            "Training set: Average loss: 1.7792, Accuracy: 46789/90050 (51.959%)\n",
            "\n",
            "Training set: Average loss: 1.6596, Accuracy: 55171/100050 (55.143%)\n",
            "\n",
            "Training set: Average loss: 1.5531, Accuracy: 63798/110050 (57.972%)\n",
            "\n",
            "Training set: Average loss: 1.4604, Accuracy: 72587/120050 (60.464%)\n",
            "\n",
            "Training set: Average loss: 1.3781, Accuracy: 81481/130050 (62.654%)\n",
            "\n",
            "Training set: Average loss: 1.3043, Accuracy: 90550/140050 (64.655%)\n",
            "\n",
            "Training set: Average loss: 1.2381, Accuracy: 99691/150050 (66.439%)\n",
            "\n",
            "Training set: Average loss: 1.1791, Accuracy: 108873/160050 (68.024%)\n",
            "\n",
            "Training set: Average loss: 1.1252, Accuracy: 118132/170050 (69.469%)\n",
            "\n",
            "Training set: Average loss: 1.0766, Accuracy: 127428/180050 (70.774%)\n",
            "\n",
            "Training set: Average loss: 1.0326, Accuracy: 136790/190050 (71.976%)\n",
            "\n",
            "Training set: Average loss: 0.9913, Accuracy: 146223/200050 (73.093%)\n",
            "\n",
            "Training set: Average loss: 0.9537, Accuracy: 155675/210050 (74.113%)\n",
            "\n",
            "Training set: Average loss: 0.9187, Accuracy: 165180/220050 (75.065%)\n",
            "\n",
            "Training set: Average loss: 0.8860, Accuracy: 174742/230050 (75.958%)\n",
            "\n",
            "\n",
            "Validation set: Average loss: 0.0950, Accuracy: 22682/23220 (97.68%)\n",
            "\n",
            "\n",
            " --> Testing set: Accuracy (Best) = 98.26%\n",
            "\n",
            "Epoch 2 -------------------------------------------------------->\n",
            "\n",
            "Training set: Average loss: 0.1128, Accuracy: 49/50 (98.000%)\n",
            "\n",
            "Training set: Average loss: 0.1767, Accuracy: 9563/10050 (95.154%)\n",
            "\n",
            "Training set: Average loss: 0.1655, Accuracy: 19127/20050 (95.397%)\n",
            "\n",
            "Training set: Average loss: 0.1585, Accuracy: 28737/30050 (95.631%)\n",
            "\n",
            "Training set: Average loss: 0.1527, Accuracy: 38363/40050 (95.788%)\n",
            "\n",
            "Training set: Average loss: 0.1483, Accuracy: 48004/50050 (95.912%)\n",
            "\n",
            "Training set: Average loss: 0.1459, Accuracy: 57641/60050 (95.988%)\n",
            "\n",
            "Training set: Average loss: 0.1428, Accuracy: 67306/70050 (96.083%)\n",
            "\n",
            "Training set: Average loss: 0.1405, Accuracy: 76976/80050 (96.160%)\n",
            "\n",
            "Training set: Average loss: 0.1388, Accuracy: 86633/90050 (96.205%)\n",
            "\n",
            "Training set: Average loss: 0.1382, Accuracy: 96267/100050 (96.219%)\n",
            "\n",
            "Training set: Average loss: 0.1354, Accuracy: 105967/110050 (96.290%)\n",
            "\n",
            "Training set: Average loss: 0.1330, Accuracy: 115686/120050 (96.365%)\n",
            "\n",
            "Training set: Average loss: 0.1299, Accuracy: 125405/130050 (96.428%)\n",
            "\n",
            "Training set: Average loss: 0.1284, Accuracy: 135116/140050 (96.477%)\n",
            "\n",
            "Training set: Average loss: 0.1266, Accuracy: 144839/150050 (96.527%)\n",
            "\n",
            "Training set: Average loss: 0.1239, Accuracy: 154603/160050 (96.597%)\n",
            "\n",
            "Training set: Average loss: 0.1224, Accuracy: 164344/170050 (96.645%)\n",
            "\n",
            "Training set: Average loss: 0.1205, Accuracy: 174111/180050 (96.701%)\n",
            "\n",
            "Training set: Average loss: 0.1185, Accuracy: 183876/190050 (96.751%)\n",
            "\n",
            "Training set: Average loss: 0.1163, Accuracy: 193659/200050 (96.805%)\n",
            "\n",
            "Training set: Average loss: 0.1148, Accuracy: 203431/210050 (96.849%)\n",
            "\n",
            "Training set: Average loss: 0.1135, Accuracy: 213190/220050 (96.883%)\n",
            "\n",
            "Training set: Average loss: 0.1120, Accuracy: 222991/230050 (96.932%)\n",
            "\n",
            "\n",
            "Validation set: Average loss: 0.0315, Accuracy: 23043/23220 (99.24%)\n",
            "\n",
            "\n",
            " --> Testing set: Accuracy (Best) = 98.93%\n",
            "\n",
            "Epoch 3 -------------------------------------------------------->\n",
            "\n",
            "Training set: Average loss: 0.0525, Accuracy: 49/50 (98.000%)\n",
            "\n",
            "Training set: Average loss: 0.0705, Accuracy: 9852/10050 (98.030%)\n",
            "\n",
            "Training set: Average loss: 0.0673, Accuracy: 19673/20050 (98.120%)\n",
            "\n",
            "Training set: Average loss: 0.0722, Accuracy: 29460/30050 (98.037%)\n",
            "\n",
            "Training set: Average loss: 0.0730, Accuracy: 39238/40050 (97.973%)\n",
            "\n",
            "Training set: Average loss: 0.0719, Accuracy: 49051/50050 (98.004%)\n",
            "\n",
            "Training set: Average loss: 0.0718, Accuracy: 58860/60050 (98.018%)\n",
            "\n",
            "Training set: Average loss: 0.0711, Accuracy: 68680/70050 (98.044%)\n",
            "\n",
            "Training set: Average loss: 0.0706, Accuracy: 78516/80050 (98.084%)\n",
            "\n",
            "Training set: Average loss: 0.0703, Accuracy: 88316/90050 (98.074%)\n",
            "\n",
            "Training set: Average loss: 0.0707, Accuracy: 98105/100050 (98.056%)\n",
            "\n",
            "Training set: Average loss: 0.0703, Accuracy: 107894/110050 (98.041%)\n",
            "\n",
            "Training set: Average loss: 0.0697, Accuracy: 117723/120050 (98.062%)\n",
            "\n",
            "Training set: Average loss: 0.0684, Accuracy: 127575/130050 (98.097%)\n",
            "\n",
            "Training set: Average loss: 0.0676, Accuracy: 137410/140050 (98.115%)\n",
            "\n",
            "Training set: Average loss: 0.0671, Accuracy: 147252/150050 (98.135%)\n",
            "\n",
            "Training set: Average loss: 0.0664, Accuracy: 157100/160050 (98.157%)\n",
            "\n",
            "Training set: Average loss: 0.0658, Accuracy: 166938/170050 (98.170%)\n",
            "\n",
            "Training set: Average loss: 0.0652, Accuracy: 176786/180050 (98.187%)\n",
            "\n",
            "Training set: Average loss: 0.0646, Accuracy: 186640/190050 (98.206%)\n",
            "\n",
            "Training set: Average loss: 0.0639, Accuracy: 196502/200050 (98.226%)\n",
            "\n",
            "Training set: Average loss: 0.0635, Accuracy: 206340/210050 (98.234%)\n",
            "\n",
            "Training set: Average loss: 0.0632, Accuracy: 216190/220050 (98.246%)\n",
            "\n",
            "Training set: Average loss: 0.0629, Accuracy: 226030/230050 (98.253%)\n",
            "\n",
            "\n",
            "Validation set: Average loss: 0.0143, Accuracy: 23134/23220 (99.63%)\n",
            "\n",
            "\n",
            " --> Testing set: Accuracy (Best) = 99.22%\n",
            "\n",
            "Epoch 4 -------------------------------------------------------->\n",
            "\n",
            "Training set: Average loss: 0.0580, Accuracy: 48/50 (96.000%)\n",
            "\n",
            "Training set: Average loss: 0.0462, Accuracy: 9928/10050 (98.786%)\n",
            "\n",
            "Training set: Average loss: 0.0464, Accuracy: 19804/20050 (98.773%)\n",
            "\n",
            "Training set: Average loss: 0.0477, Accuracy: 29669/30050 (98.732%)\n",
            "\n",
            "Training set: Average loss: 0.0481, Accuracy: 39538/40050 (98.722%)\n",
            "\n",
            "Training set: Average loss: 0.0479, Accuracy: 49399/50050 (98.699%)\n",
            "\n",
            "Training set: Average loss: 0.0486, Accuracy: 59256/60050 (98.678%)\n",
            "\n",
            "Training set: Average loss: 0.0471, Accuracy: 69152/70050 (98.718%)\n",
            "\n",
            "Training set: Average loss: 0.0465, Accuracy: 79042/80050 (98.741%)\n",
            "\n",
            "Training set: Average loss: 0.0460, Accuracy: 88924/90050 (98.750%)\n",
            "\n",
            "Training set: Average loss: 0.0458, Accuracy: 98800/100050 (98.751%)\n",
            "\n",
            "Training set: Average loss: 0.0456, Accuracy: 108671/110050 (98.747%)\n",
            "\n",
            "Training set: Average loss: 0.0457, Accuracy: 118536/120050 (98.739%)\n",
            "\n",
            "Training set: Average loss: 0.0455, Accuracy: 128415/130050 (98.743%)\n",
            "\n",
            "Training set: Average loss: 0.0456, Accuracy: 138280/140050 (98.736%)\n",
            "\n",
            "Training set: Average loss: 0.0455, Accuracy: 148161/150050 (98.741%)\n",
            "\n",
            "Training set: Average loss: 0.0454, Accuracy: 158041/160050 (98.745%)\n",
            "\n",
            "Training set: Average loss: 0.0454, Accuracy: 167918/170050 (98.746%)\n",
            "\n",
            "Training set: Average loss: 0.0455, Accuracy: 177787/180050 (98.743%)\n",
            "\n",
            "Training set: Average loss: 0.0455, Accuracy: 187658/190050 (98.741%)\n",
            "\n",
            "Training set: Average loss: 0.0449, Accuracy: 197565/200050 (98.758%)\n",
            "\n",
            "Training set: Average loss: 0.0447, Accuracy: 207441/210050 (98.758%)\n",
            "\n",
            "Training set: Average loss: 0.0446, Accuracy: 217318/220050 (98.758%)\n",
            "\n",
            "Training set: Average loss: 0.0444, Accuracy: 227195/230050 (98.759%)\n",
            "\n",
            "\n",
            "Validation set: Average loss: 0.0102, Accuracy: 23160/23220 (99.74%)\n",
            "\n",
            "\n",
            " --> Testing set: Accuracy (Best) = 99.22%\n",
            "\n",
            "Epoch 5 -------------------------------------------------------->\n",
            "\n",
            "Training set: Average loss: 0.0105, Accuracy: 50/50 (100.000%)\n",
            "\n",
            "Training set: Average loss: 0.0323, Accuracy: 9949/10050 (98.995%)\n",
            "\n",
            "Training set: Average loss: 0.0360, Accuracy: 19833/20050 (98.918%)\n",
            "\n",
            "Training set: Average loss: 0.0358, Accuracy: 29739/30050 (98.965%)\n",
            "\n",
            "Training set: Average loss: 0.0364, Accuracy: 39612/40050 (98.906%)\n",
            "\n",
            "Training set: Average loss: 0.0349, Accuracy: 49528/50050 (98.957%)\n",
            "\n",
            "Training set: Average loss: 0.0357, Accuracy: 59416/60050 (98.944%)\n",
            "\n",
            "Training set: Average loss: 0.0353, Accuracy: 69324/70050 (98.964%)\n",
            "\n",
            "Training set: Average loss: 0.0355, Accuracy: 79208/80050 (98.948%)\n",
            "\n",
            "Training set: Average loss: 0.0353, Accuracy: 89112/90050 (98.958%)\n",
            "\n",
            "Training set: Average loss: 0.0351, Accuracy: 99025/100050 (98.976%)\n",
            "\n",
            "Training set: Average loss: 0.0359, Accuracy: 108909/110050 (98.963%)\n",
            "\n",
            "Training set: Average loss: 0.0356, Accuracy: 118827/120050 (98.981%)\n",
            "\n",
            "Training set: Average loss: 0.0352, Accuracy: 128733/130050 (98.987%)\n",
            "\n",
            "Training set: Average loss: 0.0349, Accuracy: 138648/140050 (98.999%)\n",
            "\n",
            "Training set: Average loss: 0.0347, Accuracy: 148548/150050 (98.999%)\n",
            "\n",
            "Training set: Average loss: 0.0346, Accuracy: 158456/160050 (99.004%)\n",
            "\n",
            "Training set: Average loss: 0.0344, Accuracy: 168370/170050 (99.012%)\n",
            "\n",
            "Training set: Average loss: 0.0338, Accuracy: 178301/180050 (99.029%)\n",
            "\n",
            "Training set: Average loss: 0.0337, Accuracy: 188214/190050 (99.034%)\n",
            "\n",
            "Training set: Average loss: 0.0338, Accuracy: 198110/200050 (99.030%)\n",
            "\n",
            "Training set: Average loss: 0.0336, Accuracy: 208031/210050 (99.039%)\n",
            "\n",
            "Training set: Average loss: 0.0336, Accuracy: 217947/220050 (99.044%)\n",
            "\n",
            "Training set: Average loss: 0.0334, Accuracy: 227861/230050 (99.048%)\n",
            "\n",
            "\n",
            "Validation set: Average loss: 0.0042, Accuracy: 23205/23220 (99.94%)\n",
            "\n",
            "\n",
            " --> Testing set: Accuracy (Best) = 99.33%\n"
          ]
        }
      ],
      "source": [
        "# Reset these\n",
        "training_accuracy = []\n",
        "validation_accuracy = []\n",
        "train_losses = []\n",
        "train_accuracies = []\n",
        "val_losses = []\n",
        "val_accuracies = []\n",
        "\n",
        "test_accuracy = []\n",
        "confusion = [] \n",
        "test_acc = None\n",
        "confusion_mtx = None\n",
        "epoch = None\n",
        "\n",
        "for epoch in range(1, args.num_epochs + 1):\n",
        "    training_accuracy.append(train(epoch))\n",
        "    validation_accuracy.append(validate(epoch))\n",
        "    test_acc, confusion_mtx = test(test_loader)\n",
        "    test_accuracy.append(test_acc)\n",
        "    confusion.append(confusion_mtx)\n",
        "    print()\n",
        "    print('\\r --> Testing set: Accuracy (Best) = %2.2f%%' % max(test_accuracy), \n",
        "          end='', flush=True)\n",
        "    print()"
      ]
    },
    {
      "cell_type": "code",
      "execution_count": 26,
      "id": "68ee3b44",
      "metadata": {
        "colab": {
          "base_uri": "https://localhost:8080/",
          "height": 295
        },
        "id": "68ee3b44",
        "outputId": "19134ccc-05a5-42f9-8746-2bbf1a320312"
      },
      "outputs": [
        {
          "output_type": "display_data",
          "data": {
            "text/plain": [
              "<Figure size 432x288 with 1 Axes>"
            ],
            "image/png": "[encoded data removed]"
          },
          "metadata": {
            "needs_background": "light"
          }
        }
      ],
      "source": [
        "import matplotlib.pyplot as plt\n",
        "\n",
        "# Plot accuracy\n",
        "plt.plot(training_accuracy[0],'-o', markersize=.5)\n",
        "plt.plot(validation_accuracy[0],'-o', markersize=.5)\n",
        "plt.xlabel('Sample # per Epoch')\n",
        "plt.ylabel('Accuracy')\n",
        "plt.legend(['Train','Valid'])\n",
        "plt.title('Train vs Valid Accuracy per Epoch (Best)')\n",
        "None\n",
        "# Reset\n",
        "training_accuracy = None\n",
        "validation_accuracy = None"
      ]
    },
    {
      "cell_type": "code",
      "execution_count": 27,
      "id": "f88ca5bc-a7f8-40e1-a64a-89f5f2f5f3a1",
      "metadata": {
        "colab": {
          "base_uri": "https://localhost:8080/",
          "height": 280
        },
        "id": "f88ca5bc-a7f8-40e1-a64a-89f5f2f5f3a1",
        "outputId": "3a6ca19b-c1a5-49a7-aedc-de40b7b2467f"
      },
      "outputs": [
        {
          "output_type": "display_data",
          "data": {
            "text/plain": [
              "<Figure size 720x288 with 3 Axes>"
            ],
            "image/png": "[encoded data removed]"
          },
          "metadata": {
            "needs_background": "light"
          }
        }
      ],
      "source": [
        "visual(test_accuracy, confusion, class_labels)"
      ]
    },
    {
      "cell_type": "code",
      "execution_count": 28,
      "id": "6e5SvVgawIyR",
      "metadata": {
        "id": "6e5SvVgawIyR",
        "outputId": "84172e6d-30fb-43a7-f94e-ab2867ae4c8b",
        "colab": {
          "base_uri": "https://localhost:8080/"
        }
      },
      "outputs": [
        {
          "output_type": "stream",
          "name": "stdout",
          "text": [
            "Precision: 0.677\n"
          ]
        }
      ],
      "source": [
        "# ---------------------------------------------------------------------\n",
        "# Experiment Demonstrating Precision For Multi-Class Predictions\n",
        "# ---------------------------------------------------------------------\n",
        "\n",
        "# Calculate precision for a 1:1:100 dataset (50TP, 20FP, 99TP, 51FP)\n",
        "from sklearn.metrics import precision_score\n",
        "\n",
        "# Define actuals\n",
        "actual_positive1 = [1 for _ in range(100)]\n",
        "actual_positive2 = [2 for _ in range(100)]\n",
        "actual_negative = [0 for _ in range(10000)]\n",
        "y_true = actual_positive1 + actual_positive2 + actual_negative\n",
        "\n",
        "# Define predictions\n",
        "predicted_positive1 = [0 for _ in range(50)] + [1 for _ in range(50)]\n",
        "predicted_positive2 = [0 for _ in range(1)] + [2 for _ in range(99)]\n",
        "predicted_negative = [1 for _ in range(20)] + [2 for _ in range(51)] + [0 for _ in range(9929)] \n",
        "y_pred = predicted_positive1 + predicted_positive2 + predicted_negative\n",
        "\n",
        "# calculate prediction\n",
        "prec = precision_score(y_true, y_pred, labels=[1,2], average='micro') \n",
        "print('Precision: %.3f' % prec)"
      ]
    },
    {
      "cell_type": "code",
      "execution_count": 29,
      "id": "SVQiIl9iwJA1",
      "metadata": {
        "id": "SVQiIl9iwJA1"
      },
      "outputs": [],
      "source": [
        "# fin"
      ]
    }
  ],
  "metadata": {
    "accelerator": "GPU",
    "colab": {
      "machine_shape": "hm",
      "name": "main.ipynb",
      "provenance": []
    },
    "kernelspec": {
      "display_name": "Python 3 (ipykernel)",
      "language": "python",
      "name": "python3"
    },
    "language_info": {
      "codemirror_mode": {
        "name": "ipython",
        "version": 3
      },
      "file_extension": ".py",
      "mimetype": "text/x-python",
      "name": "python",
      "nbconvert_exporter": "python",
      "pygments_lexer": "ipython3",
      "version": "3.8.12"
    }
  },
  "nbformat": 4,
  "nbformat_minor": 5
}