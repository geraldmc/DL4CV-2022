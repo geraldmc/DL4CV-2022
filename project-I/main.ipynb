{
  "cells": [
    {
      "cell_type": "markdown",
      "id": "f9556229",
      "metadata": {},
      "source": [
        "## DL4CV Mid-Term Project (Spring, 2022)\n",
        "###### Gerald McCollam\n",
        "\n",
        "### Requirements\n",
        "This project has been developed to run on Google Colab as an Jupyter notebook. No dependencies beyond what Colab supplies are required. It is recommended that the Colab runtime be set to 'GPU' and 'High Ram' but it will execute fine if these are unset. \n",
        "\n",
        "If a library is missing it may be installed into a Colab session with the following:  \n",
        "\n",
        "```bash\n",
        "!pip install <library>\n",
        "```\n",
        "\n",
        "If a runtime error occurs it is likely related to connection issues between Colab and Google Drive, or to input data not being available in the required form. The instructors have provided no guidance regarding how the GTSRB dataset should be made available for this assignment to run in a different environment; this has been left to the student to determine. \n",
        "\n",
        "#### Data Loading\n",
        "First, if running Colab with Drive, create the directory 'DL4CV-2022' in your home directory and clone [this Github repository](git@github.com:geraldmc/DL4CV-2022.git) into DL4CV-2022. Your gdrive_path to the project should then look like the following:  \n",
        "\n",
        "    gdrive_path = '/content/drive//MyDrive/DL4CV-2022/project-I/'\n",
        "\n",
        "The notebook will attempt to load three zipped data files. \n",
        "\n",
        "    zip_path_train = gdrive_path + 'data/Final_Training.zip'\n",
        "    zip_path_val = gdrive_path + 'data/Final_Validation.zip'\n",
        "    zip_path_test = gdrive_path + 'data/Final_Test.zip'\n",
        "\n",
        "Two of these (Final_Training.zip, Final_Test.zip) have been created by downloading from the GTSRB download site. The files used for the assignment are:\n",
        "\n",
        "[GTSRB_Final_Training_Images.zip](https://sid.erda.dk/public/archives/daaeac0d7ce1152aea9b61d9f1e19370/GTSRB_Final_Training_Images.zip)\n",
        "\n",
        "[GTSRB_Final_Test_Images.zip](https://sid.erda.dk/public/archives/daaeac0d7ce1152aea9b61d9f1e19370/GTSRB_Final_Test_Images.zip)\n",
        "\n",
        "The directory structure for the unzipped files is the following:\n",
        "\n",
        "```\n",
        "- Final_Training\n",
        "  - Annotations\n",
        "    - GT_Training.csv (this file is required)\n",
        "    - GT-00000.csv\n",
        "    - GT-00001.csv\n",
        "  - Images\n",
        "    - 00000\n",
        "      - 00000_00000.ppm\n",
        "      - 00000_00001.ppm\n",
        "    - 00001\n",
        "      - 00000_00000.ppm\n",
        "      - 00000_00001.ppm\n",
        "    - ...\n",
        "\n",
        "- Final_Test\n",
        "  - Images\n",
        "    - 01089.ppm\n",
        "    - 01090.ppm\n",
        "    - ...\n",
        "```\n",
        "The file 'Final_Validation.zip' was created by using images 00000\\*, 00001\\* and 00002\\* from each class in the training set. There are 23,220 files in the augmented validation set and 3,900 in the unaugmented set.   \n",
        "\n",
        "#### Running \n",
        "Execute the Jupyter notebook `DL4CV-2022/project-I/main.ipynb`. It will run to completion using the `Run All` command in Colab.\n",
        "\n",
        "#### Issues\n",
        "If there are any questions please do not hesitate to text me at gerald.mccollam@gmail.com."
      ]
    },
    {
      "cell_type": "code",
      "execution_count": 1,
      "id": "8db81a50-bfd1-4fa8-be5b-cc81c0814c97",
      "metadata": {
        "id": "8db81a50-bfd1-4fa8-be5b-cc81c0814c97"
      },
      "outputs": [],
      "source": [
        "import os\n",
        "import argparse\n",
        "import numpy as np\n",
        "import torch\n",
        "import torch.nn as nn\n",
        "import torch.nn.functional as F\n",
        "import torch.optim as optim\n",
        "from torch.autograd import Variable\n",
        "import torch.utils.data as data\n",
        "import torchvision\n",
        "from torchvision import datasets, transforms\n",
        "from torchsummary import summary"
      ]
    },
    {
      "cell_type": "code",
      "execution_count": 2,
      "id": "061ab42c",
      "metadata": {
        "id": "061ab42c"
      },
      "outputs": [],
      "source": [
        "# Automatic reloading and inline plotting\n",
        "%reload_ext autoreload\n",
        "%autoreload 2\n",
        "%matplotlib inline\n",
        "\n",
        "import warnings\n",
        "warnings.filterwarnings('ignore')"
      ]
    },
    {
      "cell_type": "code",
      "execution_count": 3,
      "id": "e59d4a65-6227-4a6a-a8fd-7277b6378e70",
      "metadata": {
        "colab": {
          "base_uri": "https://localhost:8080/"
        },
        "id": "e59d4a65-6227-4a6a-a8fd-7277b6378e70",
        "outputId": "8cfa3a13-1ebb-493f-a612-85833a89ec72"
      },
      "outputs": [
        {
          "name": "stdout",
          "output_type": "stream",
          "text": [
            "Drive not mounted, so nothing to flush and unmount.\n",
            "Mounted at /content/drive\n",
            "Using GPU\n"
          ]
        }
      ],
      "source": [
        "import sys\n",
        "\n",
        "COLAB = 'google.colab' in str(get_ipython())\n",
        "HAS_GPU = torch.cuda.is_available()\n",
        "is_local = not COLAB\n",
        "\n",
        "if COLAB: # running on Colab\n",
        "    \n",
        "    from google.colab import drive\n",
        "    drive.flush_and_unmount()\n",
        "    \n",
        "    drive.mount('/content/drive', force_remount=True)\n",
        "    gdrive_path = '/content/drive//MyDrive/DL4CV-2022/project-I/'\n",
        "    sys.path.append(gdrive_path)\n",
        "\n",
        "    zip_path_train = gdrive_path + 'data/Final_Training.zip'\n",
        "    zip_path_val = gdrive_path + 'data/Final_Validation.zip'\n",
        "    zip_path_test = gdrive_path + 'data/Final_Test.zip'\n",
        "    !unzip -q \"{zip_path_train}\"\n",
        "    !unzip -q \"{zip_path_val}\"\n",
        "    !unzip -q \"{zip_path_test}\"\n",
        "    \n",
        "    if HAS_GPU:\n",
        "        print(\"Using GPU\")\n",
        "else:\n",
        "    HAS_GPU = False\n",
        "    print(\"Using CPU\")\n",
        "    \n",
        "import utils.helpers as utils\n",
        "#import loader.gtsrb_data as dataset\n",
        "\n",
        "# If we run cuda then accomodate these datatypes.\n",
        "FloatTensor = torch.cuda.FloatTensor if HAS_GPU else torch.FloatTensor\n",
        "LongTensor = torch.cuda.LongTensor if HAS_GPU else torch.LongTensor\n",
        "ByteTensor = torch.cuda.ByteTensor if HAS_GPU else torch.ByteTensor\n",
        "Tensor = FloatTensor"
      ]
    },
    {
      "cell_type": "code",
      "execution_count": 4,
      "id": "8abfcf83-83fa-4236-81a1-0e92d4d89196",
      "metadata": {
        "id": "8abfcf83-83fa-4236-81a1-0e92d4d89196"
      },
      "outputs": [],
      "source": [
        "import loader.args as load_args\n",
        "args = load_args.get_args(is_local)\n",
        "\n",
        "TRAIN_DATA_PATH = args.data_dir_train\n",
        "VAL_DATA_PATH = args.data_dir_val\n",
        "TEST_DATA_PATH = args.data_dir_test\n",
        "BATCH_SIZE = args.batch_size\n",
        "EPOCHS = args.num_epochs\n",
        "BATCH_SIZE = args.batch_size\n",
        "LEARNING_RATE = args.learning_rate"
      ]
    },
    {
      "cell_type": "code",
      "execution_count": 5,
      "id": "abff6254-15ea-4d9c-88f9-aa442cbba976",
      "metadata": {
        "id": "abff6254-15ea-4d9c-88f9-aa442cbba976"
      },
      "outputs": [],
      "source": [
        "from loader import transforms as tfs\n",
        "from torch.utils.data import Dataset\n",
        "from loader.gtsrb_data import GTSRB_Test\n",
        "from utils.tensor2image import imshow\n",
        "\n",
        "train_data = datasets.ImageFolder(\n",
        "    root=TRAIN_DATA_PATH, \n",
        "    transform=tfs.base_transform)\n",
        "train_loader = data.DataLoader(train_data, \n",
        "    batch_size=BATCH_SIZE, shuffle=True,  \n",
        "    num_workers=2)\n",
        "\n",
        "val_data = datasets.ImageFolder(\n",
        "    root=VAL_DATA_PATH, \n",
        "    transform=tfs.base_transform)\n",
        "val_loader  = data.DataLoader(val_data, \n",
        "    batch_size=BATCH_SIZE, shuffle=False, \n",
        "    num_workers=2)"
      ]
    },
    {
      "cell_type": "code",
      "execution_count": 6,
      "id": "hnicrnVZTPe9",
      "metadata": {
        "id": "hnicrnVZTPe9"
      },
      "outputs": [],
      "source": [
        "if COLAB:\n",
        "    GTSRB_test_dataset = GTSRB_Test('/content/')\n",
        "    \n",
        "else:\n",
        "    GTSRB_test_dataset = GTSRB_Test('data/')\n",
        "\n",
        "assert len(GTSRB_test_dataset) == 12630\n",
        "\n",
        "test_loader = data.DataLoader(GTSRB_test_dataset, \n",
        "    batch_size=BATCH_SIZE, shuffle=False, \n",
        "    num_workers=2)"
      ]
    },
    {
      "cell_type": "code",
      "execution_count": 7,
      "id": "21383d32-698e-442c-95d6-ae15ac5476bf",
      "metadata": {
        "colab": {
          "base_uri": "https://localhost:8080/"
        },
        "id": "21383d32-698e-442c-95d6-ae15ac5476bf",
        "outputId": "125cce90-3faa-48c5-a197-a5ef969b2aed"
      },
      "outputs": [
        {
          "name": "stdout",
          "output_type": "stream",
          "text": [
            "\n",
            "Unaugmented dataset: 39250 training samples & 3900 validation samples\n",
            "\n"
          ]
        }
      ],
      "source": [
        "# Without augmentation\n",
        "assert len(train_loader)*50 == 39250\n",
        "assert len(val_loader)*50 == 3900\n",
        "assert len(test_loader)*50 == 12650\n",
        "print()\n",
        "print('Unaugmented dataset: %d training samples & %d validation samples\\n' % (\n",
        "len(train_loader)*args.batch_size, len(val_loader)*args.batch_size))"
      ]
    },
    {
      "cell_type": "code",
      "execution_count": 8,
      "id": "6ef4c9c6-7229-412b-9000-d481c65d6505",
      "metadata": {
        "id": "6ef4c9c6-7229-412b-9000-d481c65d6505"
      },
      "outputs": [],
      "source": [
        "from model.models import Net1\n",
        "\n",
        "# Reset everything\n",
        "model = None\n",
        "optimizer = None\n",
        "scheduler = None\n",
        "\n",
        "model = Net1()\n",
        "if HAS_GPU:\n",
        "    model.cuda()\n",
        "\n",
        "# Optimizer is updated to *not* include non-gradient weights.    \n",
        "optimizer = optim.Adam(filter(lambda p: p.requires_grad, model.parameters()),\n",
        "                                                      lr=args.learning_rate)\n",
        "# Reduce learning rate when a metric has stopped improving. \n",
        "scheduler = optim.lr_scheduler.ReduceLROnPlateau(optimizer, 'min',\n",
        "                                                 patience=5,\n",
        "                                                 factor=0.5,\n",
        "                                                 verbose=True)"
      ]
    },
    {
      "cell_type": "code",
      "execution_count": 9,
      "id": "f585db72-db78-4fee-b18a-67aaef33de9b",
      "metadata": {
        "colab": {
          "base_uri": "https://localhost:8080/"
        },
        "id": "f585db72-db78-4fee-b18a-67aaef33de9b",
        "outputId": "cb457d9c-5b67-4960-f66a-00ea67361787"
      },
      "outputs": [
        {
          "name": "stdout",
          "output_type": "stream",
          "text": [
            "----------------------------------------------------------------\n",
            "        Layer (type)               Output Shape         Param #\n",
            "================================================================\n",
            "            Conv2d-1            [-1, 8, 26, 26]           1,184\n",
            "         MaxPool2d-2            [-1, 8, 13, 13]               0\n",
            "              ReLU-3            [-1, 8, 13, 13]               0\n",
            "            Conv2d-4             [-1, 10, 9, 9]           2,010\n",
            "         MaxPool2d-5             [-1, 10, 4, 4]               0\n",
            "              ReLU-6             [-1, 10, 4, 4]               0\n",
            "            Linear-7                   [-1, 32]           5,152\n",
            "              ReLU-8                   [-1, 32]               0\n",
            "            Linear-9                    [-1, 6]             198\n",
            "           Conv2d-10          [-1, 100, 28, 28]           7,600\n",
            "      BatchNorm2d-11          [-1, 100, 14, 14]             200\n",
            "        Dropout2d-12          [-1, 100, 14, 14]               0\n",
            "           Conv2d-13          [-1, 150, 12, 12]         135,150\n",
            "      BatchNorm2d-14            [-1, 150, 6, 6]             300\n",
            "        Dropout2d-15            [-1, 150, 6, 6]               0\n",
            "           Conv2d-16            [-1, 250, 4, 4]         337,750\n",
            "      BatchNorm2d-17            [-1, 250, 2, 2]             500\n",
            "        Dropout2d-18            [-1, 250, 2, 2]               0\n",
            "           Linear-19                  [-1, 350]         350,350\n",
            "           Linear-20                   [-1, 43]          15,093\n",
            "================================================================\n",
            "Total params: 855,487\n",
            "Trainable params: 855,487\n",
            "Non-trainable params: 0\n",
            "----------------------------------------------------------------\n",
            "Input size (MB): 0.01\n",
            "Forward/backward pass size (MB): 1.26\n",
            "Params size (MB): 3.26\n",
            "Estimated Total Size (MB): 4.54\n",
            "----------------------------------------------------------------\n"
          ]
        }
      ],
      "source": [
        "summary(model,(3,32,32))"
      ]
    },
    {
      "cell_type": "code",
      "execution_count": 10,
      "id": "8c05cef4-43cc-43af-b82b-59fdbbcf365f",
      "metadata": {
        "id": "8c05cef4-43cc-43af-b82b-59fdbbcf365f"
      },
      "outputs": [],
      "source": [
        "from utils.meter import AvgMeter, calc_accuracy\n",
        "\n",
        "train_losses = []\n",
        "train_accuracies = []\n",
        "\n",
        "'''\n",
        "    .                       o8o\n",
        "  .o8                       `\"'\n",
        ".o888oo oooo d8b  .oooo.   oooo  ooo. .oo.\n",
        "  888   `888\"\"8P `P  )88b  `888  `888P\"Y88b\n",
        "  888    888      .oP\"888   888   888   888\n",
        "  888 .  888     d8(  888   888   888   888\n",
        "  \"888\" d888b    `Y888\"\"8o o888o o888o o888o\n",
        "'''\n",
        "\n",
        "def train(epoch):\n",
        "    print()\n",
        "    print('Epoch {} -------------------------------------------------------->'.format(epoch) )\n",
        "    print()\n",
        "    losses = AvgMeter()\n",
        "    accuracies = AvgMeter()\n",
        "    model.train()\n",
        "    correct = 0\n",
        "    training_loss = 0\n",
        "    \n",
        "    for batch_idx, (data, target) in enumerate(train_loader):\n",
        "        data, target = Variable(data), Variable(target)\n",
        "        if HAS_GPU:\n",
        "            data = data.cuda()\n",
        "            target = target.cuda()\n",
        "        optimizer.zero_grad()\n",
        "        output = model(data)\n",
        "        loss = F.nll_loss(output, target)\n",
        "        \n",
        "        losses.update(loss.item(), data.size(0))\n",
        "        accuracy = calc_accuracy(output, target)[0]\n",
        "        train_accuracies.append(int(accuracy))\n",
        "        accuracies.update(accuracy, data.size(0))\n",
        "        \n",
        "        loss.backward()\n",
        "        optimizer.step()\n",
        "        max_index = output.max(dim = 1)[1] # _, predicted\n",
        "        correct += (max_index == target).sum()\n",
        "        training_loss += loss\n",
        "        \n",
        "        if batch_idx % args.log_interval == 0:\n",
        "            print('Training set: Average loss: {:.4f}, Accuracy: {}/{} ({:.3f}%)\\n'.format(\n",
        "            losses.avg, int(accuracies.sum/100), accuracies.count, accuracies.avg))\n",
        "    \n",
        "    return train_accuracies"
      ]
    },
    {
      "cell_type": "code",
      "execution_count": 11,
      "id": "292c2c5e-2636-414b-bf0a-7a2f181e8b7c",
      "metadata": {
        "id": "292c2c5e-2636-414b-bf0a-7a2f181e8b7c"
      },
      "outputs": [],
      "source": [
        "val_losses = []\n",
        "val_accuracies = []\n",
        "\n",
        "'''\n",
        "                      oooo\n",
        "                      `888\n",
        "oooo    ooo  .oooo.    888\n",
        " `88.  .8'  `P  )88b   888\n",
        "  `88..8'    .oP\"888   888\n",
        "   `888'    d8(  888   888\n",
        "    `8'     `Y888\"\"8o o888o\n",
        "'''\n",
        "\n",
        "def validate(epoch):\n",
        "    losses = AvgMeter()\n",
        "    accuracies = AvgMeter()\n",
        "    error_cases = []\n",
        "    \n",
        "    model.eval() # changes the forward() behaviour of the module for val/test.\n",
        "    \n",
        "    with torch.no_grad(): # disable tracking of gradients in autograd.\n",
        "        for data, target in val_loader:\n",
        "            if HAS_GPU:\n",
        "                data = data.cuda()\n",
        "                target = target.cuda()\n",
        "            output = model(data)\n",
        "            loss = F.nll_loss(output, target)\n",
        "\n",
        "            losses.update(loss.item(), data.size(0))\n",
        "            accuracy = calc_accuracy(output, target)[0]\n",
        "            val_accuracies.append(accuracy)\n",
        "            accuracies.update(accuracy, data.size(0))\n",
        "\n",
        "            _, pred = output.topk(1, 1, True, True)\n",
        "            pred = pred.t()\n",
        "\n",
        "        print('\\nValidation set: Average loss: {:.4f}, Accuracy: {}/{} ({:.2f}%)\\n'.format(\n",
        "            losses.avg, int(accuracies.sum/100), accuracies.count, accuracies.avg))\n",
        "\n",
        "    return val_accuracies"
      ]
    },
    {
      "cell_type": "code",
      "execution_count": 12,
      "id": "4f69203a-a1a8-487b-a64e-294519880ade",
      "metadata": {
        "id": "4f69203a-a1a8-487b-a64e-294519880ade"
      },
      "outputs": [],
      "source": [
        "import numpy as np\n",
        "import pandas as pd\n",
        "import sklearn.metrics as sm\n",
        "\n",
        "'''\n",
        "    .                          .\n",
        "  .o8                        .o8\n",
        "888oo  .ooooo.   .oooo.o .o888oo\n",
        "  888   d88' `88b d88(  \"8   888\n",
        "  888   888ooo888 `\"Y88b.    888\n",
        "  888 . 888    .o o.  )88b   888 .\n",
        "  \"888\" `Y8bod8P' 8\"\"888P'   \"888\"\n",
        "'''\n",
        "\n",
        "def test(test_loader):\n",
        "    model.eval()\n",
        "    correct = 0\n",
        "    targets, preds = [], []\n",
        "    \n",
        "    with torch.no_grad():\n",
        "        for data, target in test_loader:\n",
        "            if HAS_GPU:\n",
        "                data = data.cuda()\n",
        "                target = target.cuda()\n",
        "            output = model(data)\n",
        "            pred = output.max(1, keepdim=True)[1] # get the index of the max log-probability\n",
        "            correct += pred.eq(target.view_as(pred)).sum().item()\n",
        "\n",
        "            targets += list(target.cpu().numpy())\n",
        "            preds += list(pred.cpu().numpy())\n",
        "\n",
        "    test_acc = 100. * correct / len(test_loader.dataset)\n",
        "    confusion_mtx = sm.confusion_matrix(targets, preds)\n",
        "    return test_acc, confusion_mtx"
      ]
    },
    {
      "cell_type": "code",
      "execution_count": 13,
      "id": "9ddafcd9-6772-4350-afb8-f25e638968ff",
      "metadata": {
        "colab": {
          "base_uri": "https://localhost:8080/"
        },
        "id": "9ddafcd9-6772-4350-afb8-f25e638968ff",
        "outputId": "479e1f0c-ab98-48b3-9fa2-ed541ae43b70"
      },
      "outputs": [
        {
          "name": "stdout",
          "output_type": "stream",
          "text": [
            "\n",
            "Epoch 1 -------------------------------------------------------->\n",
            "\n",
            "Training set: Average loss: 3.8901, Accuracy: 1/50 (2.000%)\n",
            "\n",
            "Training set: Average loss: 3.4132, Accuracy: 1164/10050 (11.582%)\n",
            "\n",
            "Training set: Average loss: 3.0625, Accuracy: 3962/20050 (19.761%)\n",
            "\n",
            "Training set: Average loss: 2.7401, Accuracy: 8116/30050 (27.008%)\n",
            "\n",
            "\n",
            "Validation set: Average loss: 1.7491, Accuracy: 1889/3870 (48.81%)\n",
            "\n",
            "\n",
            " --> Testing set: Accuracy (Best) = 67.81%\n",
            "\n",
            "Epoch 2 -------------------------------------------------------->\n",
            "\n",
            "Training set: Average loss: 1.4639, Accuracy: 28/50 (56.000%)\n",
            "\n",
            "Training set: Average loss: 1.2220, Accuracy: 6456/10050 (64.239%)\n",
            "\n",
            "Training set: Average loss: 1.0658, Accuracy: 13878/20050 (69.217%)\n",
            "\n",
            "Training set: Average loss: 0.9372, Accuracy: 22040/30050 (73.344%)\n",
            "\n",
            "\n",
            "Validation set: Average loss: 0.4180, Accuracy: 3501/3870 (90.47%)\n",
            "\n",
            "\n",
            " --> Testing set: Accuracy (Best) = 92.07%\n",
            "\n",
            "Epoch 3 -------------------------------------------------------->\n",
            "\n",
            "Training set: Average loss: 0.6468, Accuracy: 42/50 (84.000%)\n",
            "\n",
            "Training set: Average loss: 0.4269, Accuracy: 8903/10050 (88.587%)\n",
            "\n",
            "Training set: Average loss: 0.3844, Accuracy: 17997/20050 (89.761%)\n",
            "\n",
            "Training set: Average loss: 0.3521, Accuracy: 27264/30050 (90.729%)\n",
            "\n",
            "\n",
            "Validation set: Average loss: 0.1456, Accuracy: 3747/3870 (96.82%)\n",
            "\n",
            "\n",
            " --> Testing set: Accuracy (Best) = 95.22%\n",
            "\n",
            "Epoch 4 -------------------------------------------------------->\n",
            "\n",
            "Training set: Average loss: 0.2250, Accuracy: 47/50 (94.000%)\n",
            "\n",
            "Training set: Average loss: 0.2115, Accuracy: 9503/10050 (94.557%)\n",
            "\n",
            "Training set: Average loss: 0.1975, Accuracy: 19050/20050 (95.012%)\n",
            "\n",
            "Training set: Average loss: 0.1869, Accuracy: 28648/30050 (95.334%)\n",
            "\n",
            "\n",
            "Validation set: Average loss: 0.0654, Accuracy: 3817/3870 (98.63%)\n",
            "\n",
            "\n",
            " --> Testing set: Accuracy (Best) = 96.97%\n",
            "\n",
            "Epoch 5 -------------------------------------------------------->\n",
            "\n",
            "Training set: Average loss: 0.1970, Accuracy: 48/50 (96.000%)\n",
            "\n",
            "Training set: Average loss: 0.1351, Accuracy: 9708/10050 (96.597%)\n",
            "\n",
            "Training set: Average loss: 0.1289, Accuracy: 19424/20050 (96.878%)\n",
            "\n",
            "Training set: Average loss: 0.1246, Accuracy: 29141/30050 (96.975%)\n",
            "\n",
            "\n",
            "Validation set: Average loss: 0.0383, Accuracy: 3842/3870 (99.28%)\n",
            "\n",
            "\n",
            " --> Testing set: Accuracy (Best) = 97.49%\n"
          ]
        }
      ],
      "source": [
        "training_accuracy = []\n",
        "validation_accuracy = []\n",
        "test_accuracy = []\n",
        "confusion = [] \n",
        "\n",
        "for epoch in range(1, args.num_epochs + 1):\n",
        "    training_accuracy.append(train(epoch))\n",
        "    validation_accuracy.append(validate(epoch))\n",
        "    test_acc, confusion_mtx = test(test_loader)\n",
        "    test_accuracy.append(test_acc)\n",
        "    confusion.append(confusion_mtx)\n",
        "    print()\n",
        "    print('\\r --> Testing set: Accuracy (Best) = %2.2f%%' % max(test_accuracy), \n",
        "          end='', flush=True)\n",
        "    print()\n",
        "\n",
        "#model_file = 'model_' + str(epoch) + '.pth'\n",
        "#torch.save(model.state_dict(), model_file)"
      ]
    },
    {
      "cell_type": "code",
      "execution_count": 14,
      "id": "6b4359fa-ad17-4308-bd14-5c334bb8566e",
      "metadata": {
        "colab": {
          "base_uri": "https://localhost:8080/",
          "height": 295
        },
        "id": "6b4359fa-ad17-4308-bd14-5c334bb8566e",
        "outputId": "eeb250c3-b421-43cc-8da3-c2b64225d11e"
      },
      "outputs": [
        {
          "data": {
            "image/png": "[encoded data removed]",
            "text/plain": [
              "<Figure size 432x288 with 1 Axes>"
            ]
          },
          "metadata": {
            "needs_background": "light"
          },
          "output_type": "display_data"
        }
      ],
      "source": [
        "import matplotlib.pyplot as plt\n",
        "\n",
        "# Plot accuracy\n",
        "plt.plot(training_accuracy[0],'-o', markersize=.5)\n",
        "plt.plot(validation_accuracy[0],'-o', markersize=.5)\n",
        "plt.xlabel('Sample # per Epoch')\n",
        "plt.ylabel('Accuracy')\n",
        "plt.legend(['Train','Valid'])\n",
        "plt.title('Train vs Valid Accuracy per Epoch (Best)')\n",
        "None\n",
        "# Reset\n",
        "training_accuracy = None\n",
        "validation_accuracy = None"
      ]
    },
    {
      "cell_type": "code",
      "execution_count": 15,
      "id": "2a51a14f-0cd8-442e-9a36-d8998501d421",
      "metadata": {
        "colab": {
          "base_uri": "https://localhost:8080/",
          "height": 318
        },
        "id": "2a51a14f-0cd8-442e-9a36-d8998501d421",
        "outputId": "3d8974cb-84c7-4bf2-fbae-04e867a9fab6"
      },
      "outputs": [
        {
          "name": "stdout",
          "output_type": "stream",
          "text": [
            "Dataset: 39209 training samples & 12630 testing samples\n",
            "\n",
            "Distribution of classes in training dataset:\n"
          ]
        },
        {
          "data": {
            "image/png": "[encoded data removed]",
            "text/plain": [
              "<Figure size 432x288 with 1 Axes>"
            ]
          },
          "metadata": {
            "needs_background": "light"
          },
          "output_type": "display_data"
        }
      ],
      "source": [
        "import matplotlib.pyplot as plt\n",
        "print('Dataset: %d training samples & %d testing samples\\n' % (\n",
        "    len(train_loader.dataset), len(test_loader.dataset)))\n",
        " \n",
        "print('Distribution of classes in training dataset:')\n",
        "fig, ax = plt.subplots()\n",
        "labels = [label for _, label in train_loader.dataset.imgs]\n",
        "class_labels, counts = np.unique(labels, return_counts=True)\n",
        "ax.bar(class_labels, counts)\n",
        "ax.set_xticks(class_labels)\n",
        "plt.show()"
      ]
    },
    {
      "cell_type": "code",
      "execution_count": 17,
      "id": "rxwmCvpC0UFY",
      "metadata": {
        "colab": {
          "base_uri": "https://localhost:8080/"
        },
        "id": "rxwmCvpC0UFY",
        "outputId": "3b9558f9-16bd-4bf1-88d7-037baf5f2fff"
      },
      "outputs": [
        {
          "name": "stdout",
          "output_type": "stream",
          "text": [
            "Distribution of classes ranges from 210 to 2250 per class.\n"
          ]
        }
      ],
      "source": [
        "idx2class = {v: k for k, v in train_data.class_to_idx.items()}\n",
        "\n",
        "def get_class_distribution(dataset_obj):\n",
        "    count_dict = {k:0 for k,v in dataset_obj.class_to_idx.items()}\n",
        "    \n",
        "    for element in dataset_obj:\n",
        "        y_lbl = element[1]\n",
        "        y_lbl = idx2class[y_lbl]\n",
        "        count_dict[y_lbl] += 1\n",
        "            \n",
        "    return count_dict\n",
        "\n",
        "class_distro = get_class_distribution(train_data)\n",
        "print(\"Distribution of classes ranges from {} to {}.\".format\n",
        "      (min(class_distro.values()), max(class_distro.values())))\n"
      ]
    },
    {
      "cell_type": "code",
      "execution_count": 18,
      "id": "c02829ed-9671-46d6-9597-c15c701cce8e",
      "metadata": {
        "colab": {
          "base_uri": "https://localhost:8080/",
          "height": 280
        },
        "id": "c02829ed-9671-46d6-9597-c15c701cce8e",
        "outputId": "eba202d8-6032-455f-f657-3f62e010d1ce"
      },
      "outputs": [
        {
          "data": {
            "image/png": "[encoded data removed]",
            "text/plain": [
              "<Figure size 720x288 with 3 Axes>"
            ]
          },
          "metadata": {
            "needs_background": "light"
          },
          "output_type": "display_data"
        }
      ],
      "source": [
        "from utils.visualize import visual\n",
        "\n",
        "visual(test_accuracy, confusion, class_labels)"
      ]
    },
    {
      "cell_type": "code",
      "execution_count": 19,
      "id": "f05925f9-ed14-4c88-a89c-7ed0776e6a70",
      "metadata": {
        "id": "f05925f9-ed14-4c88-a89c-7ed0776e6a70"
      },
      "outputs": [],
      "source": [
        "from loader.imbalanced import ImbalancedDatasetSampler\n",
        "from loader import transforms as tfs\n",
        "from torch.utils.data import Dataset\n",
        "from loader.gtsrb_data import GTSRB_Test\n",
        "\n",
        "train_data = None\n",
        "val_data = None\n",
        "train_loader = None\n",
        "val_loader = None\n",
        "GTSRB_test_dataset = None\n",
        "test_loader = None\n",
        "\n",
        "# Reload everything\n",
        "train_data = datasets.ImageFolder(\n",
        "    root=TRAIN_DATA_PATH, \n",
        "    transform=tfs.base_transform)\n",
        "train_loader = data.DataLoader(train_data, \n",
        "    batch_size=BATCH_SIZE, \n",
        "    sampler=ImbalancedDatasetSampler(train_data), \n",
        "    num_workers=2)\n",
        "\n",
        "val_data = datasets.ImageFolder(\n",
        "    root=VAL_DATA_PATH, \n",
        "    transform=tfs.base_transform)\n",
        "val_loader = data.DataLoader(val_data, \n",
        "    batch_size=BATCH_SIZE, \n",
        "    sampler=ImbalancedDatasetSampler(val_data), # <----- data sampler\n",
        "    num_workers=2)\n",
        "\n",
        "if COLAB:\n",
        "    GTSRB_test_dataset = GTSRB_Test('/content/')\n",
        "    \n",
        "else:\n",
        "    GTSRB_test_dataset = GTSRB_Test('data/')\n",
        "\n",
        "assert len(GTSRB_test_dataset) == 12630\n",
        "\n",
        "test_loader = data.DataLoader(GTSRB_test_dataset, \n",
        "    batch_size=BATCH_SIZE, shuffle=False, \n",
        "    num_workers=2)\n"
      ]
    },
    {
      "cell_type": "code",
      "execution_count": 20,
      "id": "GeRG4-qdRg4H",
      "metadata": {
        "id": "GeRG4-qdRg4H"
      },
      "outputs": [],
      "source": [
        "from model.models import Net1\n",
        "\n",
        "# Reset\n",
        "model = None\n",
        "optimizer = None\n",
        "scheduler = None\n",
        "\n",
        "model = Net1()\n",
        "if HAS_GPU:\n",
        "    model.cuda()\n",
        "\n",
        "# Optimizer is updated to *not* include non-gradient weights.    \n",
        "optimizer = optim.Adam(filter(lambda p: p.requires_grad, model.parameters()),\n",
        "                                                      lr=args.learning_rate)\n",
        "# Reduce learning rate when a metric has stopped improving. \n",
        "scheduler = optim.lr_scheduler.ReduceLROnPlateau(optimizer, 'min',\n",
        "                                                 patience=5,\n",
        "                                                 factor=0.5,\n",
        "                                                 verbose=True)"
      ]
    },
    {
      "cell_type": "code",
      "execution_count": 21,
      "id": "040543d4-0d71-4170-bb05-03bee03d5eb3",
      "metadata": {
        "colab": {
          "base_uri": "https://localhost:8080/"
        },
        "id": "040543d4-0d71-4170-bb05-03bee03d5eb3",
        "outputId": "4ab9d374-1437-4159-9a7a-248060aa6178"
      },
      "outputs": [
        {
          "name": "stdout",
          "output_type": "stream",
          "text": [
            "\n",
            "Epoch 1 -------------------------------------------------------->\n",
            "\n",
            "Training set: Average loss: 3.8526, Accuracy: 1/50 (2.000%)\n",
            "\n",
            "Training set: Average loss: 3.5690, Accuracy: 705/10050 (7.015%)\n",
            "\n",
            "Training set: Average loss: 3.2919, Accuracy: 2451/20050 (12.224%)\n",
            "\n",
            "Training set: Average loss: 2.9876, Accuracy: 5768/30050 (19.195%)\n",
            "\n",
            "\n",
            "Validation set: Average loss: 1.1148, Accuracy: 2994/3870 (77.36%)\n",
            "\n",
            "\n",
            " --> Testing set: Accuracy (Best) = 63.91%\n",
            "\n",
            "Epoch 2 -------------------------------------------------------->\n",
            "\n",
            "Training set: Average loss: 1.4277, Accuracy: 32/50 (64.000%)\n",
            "\n",
            "Training set: Average loss: 1.2241, Accuracy: 6685/10050 (66.517%)\n",
            "\n",
            "Training set: Average loss: 1.0539, Accuracy: 14255/20050 (71.097%)\n",
            "\n",
            "Training set: Average loss: 0.9222, Accuracy: 22524/30050 (74.955%)\n",
            "\n",
            "\n",
            "Validation set: Average loss: 0.2538, Accuracy: 3755/3870 (97.03%)\n",
            "\n",
            "\n",
            " --> Testing set: Accuracy (Best) = 91.51%\n",
            "\n",
            "Epoch 3 -------------------------------------------------------->\n",
            "\n",
            "Training set: Average loss: 0.5861, Accuracy: 43/50 (86.000%)\n",
            "\n",
            "Training set: Average loss: 0.4158, Accuracy: 8936/10050 (88.915%)\n",
            "\n",
            "Training set: Average loss: 0.3890, Accuracy: 17999/20050 (89.771%)\n",
            "\n",
            "Training set: Average loss: 0.3560, Accuracy: 27245/30050 (90.666%)\n",
            "\n",
            "\n",
            "Validation set: Average loss: 0.0916, Accuracy: 3835/3870 (99.10%)\n",
            "\n",
            "\n",
            " --> Testing set: Accuracy (Best) = 95.23%\n",
            "\n",
            "Epoch 4 -------------------------------------------------------->\n",
            "\n",
            "Training set: Average loss: 0.3110, Accuracy: 46/50 (92.000%)\n",
            "\n",
            "Training set: Average loss: 0.2184, Accuracy: 9506/10050 (94.587%)\n",
            "\n",
            "Training set: Average loss: 0.2044, Accuracy: 19042/20050 (94.973%)\n",
            "\n",
            "Training set: Average loss: 0.1947, Accuracy: 28623/30050 (95.251%)\n",
            "\n",
            "\n",
            "Validation set: Average loss: 0.0558, Accuracy: 3834/3870 (99.07%)\n",
            "\n",
            "\n",
            " --> Testing set: Accuracy (Best) = 95.87%\n",
            "\n",
            "Epoch 5 -------------------------------------------------------->\n",
            "\n",
            "Training set: Average loss: 0.1044, Accuracy: 50/50 (100.000%)\n",
            "\n",
            "Training set: Average loss: 0.1354, Accuracy: 9715/10050 (96.667%)\n",
            "\n",
            "Training set: Average loss: 0.1279, Accuracy: 19407/20050 (96.793%)\n",
            "\n",
            "Training set: Average loss: 0.1217, Accuracy: 29121/30050 (96.908%)\n",
            "\n",
            "\n",
            "Validation set: Average loss: 0.0262, Accuracy: 3860/3870 (99.74%)\n",
            "\n",
            "\n",
            " --> Testing set: Accuracy (Best) = 96.87%\n"
          ]
        }
      ],
      "source": [
        "# Reset\n",
        "training_accuracy = []\n",
        "validation_accuracy = []\n",
        "test_accuracy = []\n",
        "confusion = [] \n",
        "test_acc = None\n",
        "confusion_mtx = None\n",
        "epoch = None\n",
        "\n",
        "for epoch in range(1, args.num_epochs + 1):\n",
        "    training_accuracy.append(train(epoch))\n",
        "    validation_accuracy.append(validate(epoch))\n",
        "    test_acc, confusion_mtx = test(test_loader)\n",
        "    test_accuracy.append(test_acc)\n",
        "    confusion.append(confusion_mtx)\n",
        "    print()\n",
        "    print('\\r --> Testing set: Accuracy (Best) = %2.2f%%' % max(test_accuracy), \n",
        "          end='', flush=True)\n",
        "    print()\n",
        "    \n",
        "#model_file = 'model_' + str(epoch) + '.pth'\n",
        "#torch.save(model.state_dict(), model_file)"
      ]
    },
    {
      "cell_type": "code",
      "execution_count": 22,
      "id": "hdGjn3caHkGC",
      "metadata": {
        "colab": {
          "base_uri": "https://localhost:8080/",
          "height": 280
        },
        "id": "hdGjn3caHkGC",
        "outputId": "9eb6cbfd-2a27-4d03-bac8-235240fc2403"
      },
      "outputs": [
        {
          "data": {
            "image/png": "[encoded data removed]",
            "text/plain": [
              "<Figure size 720x288 with 3 Axes>"
            ]
          },
          "metadata": {
            "needs_background": "light"
          },
          "output_type": "display_data"
        }
      ],
      "source": [
        "from utils.visualize import visual\n",
        "\n",
        "visual(test_accuracy, confusion, class_labels)"
      ]
    },
    {
      "cell_type": "code",
      "execution_count": 23,
      "id": "6b3efedc",
      "metadata": {
        "id": "6b3efedc"
      },
      "outputs": [],
      "source": [
        "train_loader = None\n",
        "val_loader = None\n",
        "\n",
        "train_loader = torch.utils.data.DataLoader(\n",
        " torch.utils.data.ConcatDataset([datasets.ImageFolder(\n",
        "                                    TRAIN_DATA_PATH, \n",
        "                                    transform=tfs.base_transform),\n",
        "                               datasets.ImageFolder(\n",
        "                                    TRAIN_DATA_PATH,\n",
        "                                    transform=tfs.data_translate),\n",
        "                               datasets.ImageFolder(\n",
        "                                    TRAIN_DATA_PATH,\n",
        "                                    transform=tfs.data_grayscale),\n",
        "                               datasets.ImageFolder(\n",
        "                                    TRAIN_DATA_PATH,\n",
        "                                    transform=tfs.data_center),\n",
        "                               datasets.ImageFolder(\n",
        "                                    TRAIN_DATA_PATH,\n",
        "                                    transform=tfs.data_rotate),\n",
        "                               datasets.ImageFolder(\n",
        "                                    TRAIN_DATA_PATH,\n",
        "                                    transform=tfs.data_jitter_hue)]), \n",
        "                                    batch_size=args.batch_size, \n",
        "                                    shuffle=True, num_workers=2, \n",
        "                                    pin_memory=HAS_GPU)\n",
        "\n",
        "val_loader = torch.utils.data.DataLoader(\n",
        " torch.utils.data.ConcatDataset([datasets.ImageFolder(\n",
        "                                    VAL_DATA_PATH, \n",
        "                                    transform=tfs.base_transform),\n",
        "                               datasets.ImageFolder(\n",
        "                                    VAL_DATA_PATH,\n",
        "                                    transform=tfs.data_translate),\n",
        "                               datasets.ImageFolder(\n",
        "                                    VAL_DATA_PATH,\n",
        "                                    transform=tfs.data_grayscale),\n",
        "                               datasets.ImageFolder(\n",
        "                                    VAL_DATA_PATH,\n",
        "                                    transform=tfs.data_center),\n",
        "                               datasets.ImageFolder(\n",
        "                                    VAL_DATA_PATH,\n",
        "                                    transform=tfs.data_rotate),\n",
        "                               datasets.ImageFolder(\n",
        "                                    VAL_DATA_PATH,\n",
        "                                    transform=tfs.data_jitter_hue)]), \n",
        "                                    batch_size=args.batch_size, \n",
        "                                    shuffle=False, num_workers=2, \n",
        "                                    pin_memory=HAS_GPU)\n",
        "\n",
        "if COLAB:\n",
        "    GTSRB_test_dataset = GTSRB_Test('/content/')\n",
        "    \n",
        "else:\n",
        "    GTSRB_test_dataset = GTSRB_Test('data/')\n",
        "\n",
        "assert len(GTSRB_test_dataset) == 12630\n",
        "\n",
        "test_loader = data.DataLoader(GTSRB_test_dataset, \n",
        "    batch_size=BATCH_SIZE, shuffle=False, \n",
        "    num_workers=2)"
      ]
    },
    {
      "cell_type": "code",
      "execution_count": 24,
      "id": "WFGRAl1Ur5wH",
      "metadata": {
        "colab": {
          "base_uri": "https://localhost:8080/",
          "height": 320
        },
        "id": "WFGRAl1Ur5wH",
        "outputId": "22e4d883-2a59-4cab-bfed-12255c6a260b"
      },
      "outputs": [
        {
          "name": "stdout",
          "output_type": "stream",
          "text": [
            "Augmented dataset: 235254 training samples & 23220 validation samples\n",
            "\n",
            "Distribution of classes in augmented train dataset:\n"
          ]
        },
        {
          "data": {
            "image/png": "[encoded data removed]",
            "text/plain": [
              "<Figure size 432x288 with 1 Axes>"
            ]
          },
          "metadata": {
            "needs_background": "light"
          },
          "output_type": "display_data"
        }
      ],
      "source": [
        "print('Augmented dataset: %d training samples & %d validation samples\\n' % (\n",
        "    len(train_loader.dataset), len(val_loader.dataset)))\n",
        "\n",
        "# Get labels from concatenated datasets.\n",
        "train_dataset_list = train_loader.dataset.datasets\n",
        "train_concat_labels = []\n",
        "for ds in train_dataset_list:\n",
        "    train_concat_labels.extend(ds.targets)\n",
        "\n",
        "val_dataset_list = val_loader.dataset.datasets\n",
        "val_concat_labels = []\n",
        "for ds in val_dataset_list:\n",
        "    val_concat_labels.extend(ds.targets)\n",
        "\n",
        "class_labels = range(43)\n",
        "\n",
        "print('Distribution of classes in augmented train dataset:')\n",
        "fig, ax = plt.subplots()\n",
        "_, counts = np.unique(train_concat_labels, return_counts=True)\n",
        "ax.bar(class_labels, counts)\n",
        "ax.set_xticks(class_labels, minor=True)\n",
        "plt.show()"
      ]
    },
    {
      "cell_type": "code",
      "execution_count": 25,
      "id": "yCV_6h05r18X",
      "metadata": {
        "id": "yCV_6h05r18X"
      },
      "outputs": [],
      "source": [
        "from model.models import Net1\n",
        "\n",
        "# Reset\n",
        "model = None\n",
        "optimizer = None\n",
        "scheduler = None\n",
        "\n",
        "model = Net1()\n",
        "if HAS_GPU:\n",
        "    model.cuda()\n",
        "\n",
        "# Optimizer is updated to *not* include non-gradient weights.    \n",
        "optimizer = optim.Adam(filter(lambda p: p.requires_grad, model.parameters()),\n",
        "                                                      lr=args.learning_rate)\n",
        "# Reduce learning rate when a metric has stopped improving. \n",
        "scheduler = optim.lr_scheduler.ReduceLROnPlateau(optimizer, 'min',\n",
        "                                                 patience=5,\n",
        "                                                 factor=0.5,\n",
        "                                                 verbose=True)"
      ]
    },
    {
      "cell_type": "code",
      "execution_count": 26,
      "id": "cb38f062",
      "metadata": {
        "colab": {
          "base_uri": "https://localhost:8080/"
        },
        "id": "cb38f062",
        "outputId": "3e145ded-4b1f-41c7-aaad-4311728c66b2"
      },
      "outputs": [
        {
          "name": "stdout",
          "output_type": "stream",
          "text": [
            "\n",
            "Epoch 1 -------------------------------------------------------->\n",
            "\n",
            "Training set: Average loss: 3.8996, Accuracy: 2/50 (4.000%)\n",
            "\n",
            "Training set: Average loss: 3.4852, Accuracy: 964/10050 (9.592%)\n",
            "\n",
            "Training set: Average loss: 3.2340, Accuracy: 3132/20050 (15.621%)\n",
            "\n",
            "Training set: Average loss: 2.9556, Accuracy: 6734/30050 (22.409%)\n",
            "\n",
            "Training set: Average loss: 2.6755, Accuracy: 11646/40050 (29.079%)\n",
            "\n",
            "Training set: Average loss: 2.4146, Accuracy: 17794/50050 (35.552%)\n",
            "\n",
            "Training set: Average loss: 2.1934, Accuracy: 24699/60050 (41.131%)\n",
            "\n",
            "Training set: Average loss: 2.0033, Accuracy: 32294/70050 (46.101%)\n",
            "\n",
            "Training set: Average loss: 1.8431, Accuracy: 40289/80050 (50.330%)\n",
            "\n",
            "Training set: Average loss: 1.7105, Accuracy: 48494/90050 (53.852%)\n",
            "\n",
            "Training set: Average loss: 1.5934, Accuracy: 57000/100050 (56.972%)\n",
            "\n",
            "Training set: Average loss: 1.4920, Accuracy: 65679/110050 (59.681%)\n",
            "\n",
            "Training set: Average loss: 1.4054, Accuracy: 74408/120050 (61.981%)\n",
            "\n",
            "Training set: Average loss: 1.3293, Accuracy: 83257/130050 (64.019%)\n",
            "\n",
            "Training set: Average loss: 1.2598, Accuracy: 92272/140050 (65.885%)\n",
            "\n",
            "Training set: Average loss: 1.1970, Accuracy: 101420/150050 (67.591%)\n",
            "\n",
            "Training set: Average loss: 1.1406, Accuracy: 110607/160050 (69.108%)\n",
            "\n",
            "Training set: Average loss: 1.0900, Accuracy: 119847/170050 (70.478%)\n",
            "\n",
            "Training set: Average loss: 1.0435, Accuracy: 129155/180050 (71.733%)\n",
            "\n",
            "Training set: Average loss: 1.0013, Accuracy: 138512/190050 (72.882%)\n",
            "\n",
            "Training set: Average loss: 0.9620, Accuracy: 147920/200050 (73.942%)\n",
            "\n",
            "Training set: Average loss: 0.9263, Accuracy: 157332/210050 (74.902%)\n",
            "\n",
            "Training set: Average loss: 0.8929, Accuracy: 166795/220050 (75.799%)\n",
            "\n",
            "Training set: Average loss: 0.8624, Accuracy: 176267/230050 (76.621%)\n",
            "\n",
            "\n",
            "Validation set: Average loss: 0.0915, Accuracy: 22725/23220 (97.87%)\n",
            "\n",
            "\n",
            " --> Testing set: Accuracy (Best) = 97.64%\n",
            "\n",
            "Epoch 2 -------------------------------------------------------->\n",
            "\n",
            "Training set: Average loss: 0.1445, Accuracy: 48/50 (96.000%)\n",
            "\n",
            "Training set: Average loss: 0.1779, Accuracy: 9555/10050 (95.075%)\n",
            "\n",
            "Training set: Average loss: 0.1677, Accuracy: 19104/20050 (95.282%)\n",
            "\n",
            "Training set: Average loss: 0.1643, Accuracy: 28685/30050 (95.458%)\n",
            "\n",
            "Training set: Average loss: 0.1610, Accuracy: 38266/40050 (95.546%)\n",
            "\n",
            "Training set: Average loss: 0.1552, Accuracy: 47926/50050 (95.756%)\n",
            "\n",
            "Training set: Average loss: 0.1510, Accuracy: 57553/60050 (95.842%)\n",
            "\n",
            "Training set: Average loss: 0.1485, Accuracy: 67182/70050 (95.906%)\n",
            "\n",
            "Training set: Average loss: 0.1462, Accuracy: 76822/80050 (95.968%)\n",
            "\n",
            "Training set: Average loss: 0.1436, Accuracy: 86472/90050 (96.027%)\n",
            "\n",
            "Training set: Average loss: 0.1417, Accuracy: 96134/100050 (96.086%)\n",
            "\n",
            "Training set: Average loss: 0.1388, Accuracy: 105842/110050 (96.176%)\n",
            "\n",
            "Training set: Average loss: 0.1367, Accuracy: 115525/120050 (96.231%)\n",
            "\n",
            "Training set: Average loss: 0.1345, Accuracy: 125196/130050 (96.268%)\n",
            "\n",
            "Training set: Average loss: 0.1328, Accuracy: 134867/140050 (96.299%)\n",
            "\n",
            "Training set: Average loss: 0.1309, Accuracy: 144575/150050 (96.351%)\n",
            "\n",
            "Training set: Average loss: 0.1293, Accuracy: 154301/160050 (96.408%)\n",
            "\n",
            "Training set: Average loss: 0.1271, Accuracy: 164025/170050 (96.457%)\n",
            "\n",
            "Training set: Average loss: 0.1251, Accuracy: 173768/180050 (96.511%)\n",
            "\n",
            "Training set: Average loss: 0.1234, Accuracy: 183506/190050 (96.557%)\n",
            "\n",
            "Training set: Average loss: 0.1215, Accuracy: 193282/200050 (96.617%)\n",
            "\n",
            "Training set: Average loss: 0.1200, Accuracy: 203033/210050 (96.659%)\n",
            "\n",
            "Training set: Average loss: 0.1188, Accuracy: 212771/220050 (96.692%)\n",
            "\n",
            "Training set: Average loss: 0.1170, Accuracy: 222547/230050 (96.739%)\n",
            "\n",
            "\n",
            "Validation set: Average loss: 0.0292, Accuracy: 23060/23220 (99.31%)\n",
            "\n",
            "\n",
            " --> Testing set: Accuracy (Best) = 99.07%\n",
            "\n",
            "Epoch 3 -------------------------------------------------------->\n",
            "\n",
            "Training set: Average loss: 0.0508, Accuracy: 50/50 (100.000%)\n",
            "\n",
            "Training set: Average loss: 0.0748, Accuracy: 9837/10050 (97.881%)\n",
            "\n",
            "Training set: Average loss: 0.0750, Accuracy: 19631/20050 (97.910%)\n",
            "\n",
            "Training set: Average loss: 0.0751, Accuracy: 29416/30050 (97.890%)\n",
            "\n",
            "Training set: Average loss: 0.0750, Accuracy: 39203/40050 (97.885%)\n",
            "\n",
            "Training set: Average loss: 0.0745, Accuracy: 49010/50050 (97.922%)\n",
            "\n",
            "Training set: Average loss: 0.0747, Accuracy: 58806/60050 (97.928%)\n",
            "\n",
            "Training set: Average loss: 0.0740, Accuracy: 68612/70050 (97.947%)\n",
            "\n",
            "Training set: Average loss: 0.0729, Accuracy: 78430/80050 (97.976%)\n",
            "\n",
            "Training set: Average loss: 0.0725, Accuracy: 88245/90050 (97.996%)\n",
            "\n",
            "Training set: Average loss: 0.0713, Accuracy: 98067/100050 (98.018%)\n",
            "\n",
            "Training set: Average loss: 0.0714, Accuracy: 107866/110050 (98.015%)\n",
            "\n",
            "Training set: Average loss: 0.0706, Accuracy: 117697/120050 (98.040%)\n",
            "\n",
            "Training set: Average loss: 0.0705, Accuracy: 127500/130050 (98.039%)\n",
            "\n",
            "Training set: Average loss: 0.0707, Accuracy: 137298/140050 (98.035%)\n",
            "\n",
            "Training set: Average loss: 0.0702, Accuracy: 147117/150050 (98.045%)\n",
            "\n",
            "Training set: Average loss: 0.0693, Accuracy: 156947/160050 (98.061%)\n",
            "\n",
            "Training set: Average loss: 0.0689, Accuracy: 166769/170050 (98.071%)\n",
            "\n",
            "Training set: Average loss: 0.0681, Accuracy: 176623/180050 (98.097%)\n",
            "\n",
            "Training set: Average loss: 0.0673, Accuracy: 186475/190050 (98.119%)\n",
            "\n",
            "Training set: Average loss: 0.0669, Accuracy: 196306/200050 (98.128%)\n",
            "\n",
            "Training set: Average loss: 0.0664, Accuracy: 206133/210050 (98.135%)\n",
            "\n",
            "Training set: Average loss: 0.0659, Accuracy: 215958/220050 (98.140%)\n",
            "\n",
            "Training set: Average loss: 0.0654, Accuracy: 225826/230050 (98.164%)\n",
            "\n",
            "\n",
            "Validation set: Average loss: 0.0166, Accuracy: 23130/23220 (99.61%)\n",
            "\n",
            "\n",
            " --> Testing set: Accuracy (Best) = 99.20%\n",
            "\n",
            "Epoch 4 -------------------------------------------------------->\n",
            "\n",
            "Training set: Average loss: 0.0379, Accuracy: 49/50 (98.000%)\n",
            "\n",
            "Training set: Average loss: 0.0502, Accuracy: 9902/10050 (98.527%)\n",
            "\n",
            "Training set: Average loss: 0.0525, Accuracy: 19761/20050 (98.559%)\n",
            "\n",
            "Training set: Average loss: 0.0503, Accuracy: 29632/30050 (98.609%)\n",
            "\n",
            "Training set: Average loss: 0.0497, Accuracy: 39495/40050 (98.614%)\n",
            "\n",
            "Training set: Average loss: 0.0497, Accuracy: 49345/50050 (98.591%)\n",
            "\n",
            "Training set: Average loss: 0.0489, Accuracy: 59216/60050 (98.611%)\n",
            "\n",
            "Training set: Average loss: 0.0489, Accuracy: 69086/70050 (98.624%)\n",
            "\n",
            "Training set: Average loss: 0.0488, Accuracy: 78947/80050 (98.622%)\n",
            "\n",
            "Training set: Average loss: 0.0488, Accuracy: 88800/90050 (98.612%)\n",
            "\n",
            "Training set: Average loss: 0.0496, Accuracy: 98639/100050 (98.590%)\n",
            "\n",
            "Training set: Average loss: 0.0499, Accuracy: 108494/110050 (98.586%)\n",
            "\n",
            "Training set: Average loss: 0.0495, Accuracy: 118349/120050 (98.583%)\n",
            "\n",
            "Training set: Average loss: 0.0493, Accuracy: 128220/130050 (98.593%)\n",
            "\n",
            "Training set: Average loss: 0.0491, Accuracy: 138079/140050 (98.593%)\n",
            "\n",
            "Training set: Average loss: 0.0494, Accuracy: 147941/150050 (98.594%)\n",
            "\n",
            "Training set: Average loss: 0.0490, Accuracy: 157810/160050 (98.600%)\n",
            "\n",
            "Training set: Average loss: 0.0489, Accuracy: 167673/170050 (98.602%)\n",
            "\n",
            "Training set: Average loss: 0.0487, Accuracy: 177546/180050 (98.609%)\n",
            "\n",
            "Training set: Average loss: 0.0483, Accuracy: 187421/190050 (98.617%)\n",
            "\n",
            "Training set: Average loss: 0.0482, Accuracy: 197292/200050 (98.621%)\n",
            "\n",
            "Training set: Average loss: 0.0476, Accuracy: 207185/210050 (98.636%)\n",
            "\n",
            "Training set: Average loss: 0.0473, Accuracy: 217068/220050 (98.645%)\n",
            "\n",
            "Training set: Average loss: 0.0469, Accuracy: 226958/230050 (98.656%)\n",
            "\n",
            "\n",
            "Validation set: Average loss: 0.0095, Accuracy: 23168/23220 (99.78%)\n",
            "\n",
            "\n",
            " --> Testing set: Accuracy (Best) = 99.29%\n",
            "\n",
            "Epoch 5 -------------------------------------------------------->\n",
            "\n",
            "Training set: Average loss: 0.0121, Accuracy: 50/50 (100.000%)\n",
            "\n",
            "Training set: Average loss: 0.0381, Accuracy: 9938/10050 (98.886%)\n",
            "\n",
            "Training set: Average loss: 0.0415, Accuracy: 19803/20050 (98.768%)\n",
            "\n",
            "Training set: Average loss: 0.0408, Accuracy: 29680/30050 (98.769%)\n",
            "\n",
            "Training set: Average loss: 0.0394, Accuracy: 39576/40050 (98.816%)\n",
            "\n",
            "Training set: Average loss: 0.0391, Accuracy: 49467/50050 (98.835%)\n",
            "\n",
            "Training set: Average loss: 0.0392, Accuracy: 59364/60050 (98.858%)\n",
            "\n",
            "Training set: Average loss: 0.0385, Accuracy: 69262/70050 (98.875%)\n",
            "\n",
            "Training set: Average loss: 0.0380, Accuracy: 79157/80050 (98.884%)\n",
            "\n",
            "Training set: Average loss: 0.0388, Accuracy: 89018/90050 (98.854%)\n",
            "\n",
            "Training set: Average loss: 0.0391, Accuracy: 98911/100050 (98.862%)\n",
            "\n",
            "Training set: Average loss: 0.0383, Accuracy: 108822/110050 (98.884%)\n",
            "\n",
            "Training set: Average loss: 0.0379, Accuracy: 118719/120050 (98.891%)\n",
            "\n",
            "Training set: Average loss: 0.0375, Accuracy: 128620/130050 (98.900%)\n",
            "\n",
            "Training set: Average loss: 0.0370, Accuracy: 138530/140050 (98.915%)\n",
            "\n",
            "Training set: Average loss: 0.0364, Accuracy: 148441/150050 (98.928%)\n",
            "\n",
            "Training set: Average loss: 0.0365, Accuracy: 158328/160050 (98.924%)\n",
            "\n",
            "Training set: Average loss: 0.0362, Accuracy: 168240/170050 (98.936%)\n",
            "\n",
            "Training set: Average loss: 0.0358, Accuracy: 178158/180050 (98.949%)\n",
            "\n",
            "Training set: Average loss: 0.0356, Accuracy: 188070/190050 (98.958%)\n",
            "\n",
            "Training set: Average loss: 0.0353, Accuracy: 197986/200050 (98.968%)\n",
            "\n",
            "Training set: Average loss: 0.0353, Accuracy: 207886/210050 (98.970%)\n",
            "\n",
            "Training set: Average loss: 0.0354, Accuracy: 217783/220050 (98.970%)\n",
            "\n",
            "Training set: Average loss: 0.0351, Accuracy: 227710/230050 (98.983%)\n",
            "\n",
            "\n",
            "Validation set: Average loss: 0.0065, Accuracy: 23183/23220 (99.84%)\n",
            "\n",
            "\n",
            " --> Testing set: Accuracy (Best) = 99.29%\n"
          ]
        }
      ],
      "source": [
        "# Reset these\n",
        "training_accuracy = []\n",
        "validation_accuracy = []\n",
        "train_losses = []\n",
        "train_accuracies = []\n",
        "val_losses = []\n",
        "val_accuracies = []\n",
        "\n",
        "test_accuracy = []\n",
        "confusion = [] \n",
        "test_acc = None\n",
        "confusion_mtx = None\n",
        "epoch = None\n",
        "\n",
        "for epoch in range(1, args.num_epochs + 1):\n",
        "    training_accuracy.append(train(epoch))\n",
        "    validation_accuracy.append(validate(epoch))\n",
        "    test_acc, confusion_mtx = test(test_loader)\n",
        "    test_accuracy.append(test_acc)\n",
        "    confusion.append(confusion_mtx)\n",
        "    print()\n",
        "    print('\\r --> Testing set: Accuracy (Best) = %2.2f%%' % max(test_accuracy), \n",
        "          end='', flush=True)\n",
        "    print()"
      ]
    },
    {
      "cell_type": "code",
      "execution_count": 27,
      "id": "68ee3b44",
      "metadata": {
        "colab": {
          "base_uri": "https://localhost:8080/",
          "height": 295
        },
        "id": "68ee3b44",
        "outputId": "04063805-be61-4b75-8c56-a46fb90ff4f8"
      },
      "outputs": [
        {
          "data": {
            "image/png": "[encoded data removed]",
            "text/plain": [
              "<Figure size 432x288 with 1 Axes>"
            ]
          },
          "metadata": {
            "needs_background": "light"
          },
          "output_type": "display_data"
        }
      ],
      "source": [
        "import matplotlib.pyplot as plt\n",
        "\n",
        "# Plot accuracy\n",
        "plt.plot(training_accuracy[0],'-o', markersize=.5)\n",
        "plt.plot(validation_accuracy[0],'-o', markersize=.5)\n",
        "plt.xlabel('Sample # per Epoch')\n",
        "plt.ylabel('Accuracy')\n",
        "plt.legend(['Train','Valid'])\n",
        "plt.title('Train vs Valid Accuracy per Epoch (Best)')\n",
        "None\n",
        "# Reset\n",
        "training_accuracy = None\n",
        "validation_accuracy = None"
      ]
    },
    {
      "cell_type": "code",
      "execution_count": 28,
      "id": "f88ca5bc-a7f8-40e1-a64a-89f5f2f5f3a1",
      "metadata": {
        "colab": {
          "base_uri": "https://localhost:8080/",
          "height": 280
        },
        "id": "f88ca5bc-a7f8-40e1-a64a-89f5f2f5f3a1",
        "outputId": "1f5bc5bf-4963-4847-d1af-db541e2333ab"
      },
      "outputs": [
        {
          "data": {
            "image/png": "[encoded data removed]",
            "text/plain": [
              "<Figure size 720x288 with 3 Axes>"
            ]
          },
          "metadata": {
            "needs_background": "light"
          },
          "output_type": "display_data"
        }
      ],
      "source": [
        "visual(test_accuracy, confusion, class_labels)"
      ]
    },
    {
      "cell_type": "code",
      "execution_count": null,
      "id": "6e5SvVgawIyR",
      "metadata": {
        "id": "6e5SvVgawIyR"
      },
      "outputs": [],
      "source": [
        "# ---------------------------------------------------------------------\n",
        "# Experiment Demonstrating Precision For Multi-Class Predictions\n",
        "# ---------------------------------------------------------------------\n",
        "\n",
        "# Calculate precision for a 1:1:100 dataset (50TP, 20FP, 99TP, 51FP)\n",
        "from sklearn.metrics import precision_score\n",
        "\n",
        "# Define actuals\n",
        "actual_positive1 = [1 for _ in range(100)]\n",
        "actual_positive2 = [2 for _ in range(100)]\n",
        "actual_negative = [0 for _ in range(10000)]\n",
        "y_true = actual_positive1 + actual_positive2 + actual_negative\n",
        "\n",
        "# Define predictions\n",
        "predicted_positive1 = [0 for _ in range(50)] + [1 for _ in range(50)]\n",
        "predicted_positive2 = [0 for _ in range(1)] + [2 for _ in range(99)]\n",
        "predicted_negative = [1 for _ in range(20)] + [2 for _ in range(51)] + [0 for _ in range(9929)] \n",
        "y_pred = predicted_positive1 + predicted_positive2 + predicted_negative\n",
        "\n",
        "# calculate prediction\n",
        "prec = precision_score(y_true, y_pred, labels=[1,2], average='micro') \n",
        "print('Precision: %.3f' % prec)"
      ]
    },
    {
      "cell_type": "code",
      "execution_count": null,
      "id": "sxyOacifwI1Z",
      "metadata": {
        "id": "sxyOacifwI1Z"
      },
      "outputs": [],
      "source": []
    },
    {
      "cell_type": "code",
      "execution_count": null,
      "id": "isGR6lTYwI3w",
      "metadata": {
        "id": "isGR6lTYwI3w"
      },
      "outputs": [],
      "source": []
    },
    {
      "cell_type": "code",
      "execution_count": null,
      "id": "RGdKJaehwI6o",
      "metadata": {
        "id": "RGdKJaehwI6o"
      },
      "outputs": [],
      "source": []
    },
    {
      "cell_type": "code",
      "execution_count": null,
      "id": "vu9cAN0EwI9t",
      "metadata": {
        "id": "vu9cAN0EwI9t"
      },
      "outputs": [],
      "source": []
    },
    {
      "cell_type": "code",
      "execution_count": null,
      "id": "SVQiIl9iwJA1",
      "metadata": {
        "id": "SVQiIl9iwJA1"
      },
      "outputs": [],
      "source": []
    }
  ],
  "metadata": {
    "accelerator": "GPU",
    "colab": {
      "machine_shape": "hm",
      "name": "main.ipynb",
      "provenance": []
    },
    "kernelspec": {
      "display_name": "Python 3 (ipykernel)",
      "language": "python",
      "name": "python3"
    },
    "language_info": {
      "codemirror_mode": {
        "name": "ipython",
        "version": 3
      },
      "file_extension": ".py",
      "mimetype": "text/x-python",
      "name": "python",
      "nbconvert_exporter": "python",
      "pygments_lexer": "ipython3",
      "version": "3.8.12"
    }
  },
  "nbformat": 4,
  "nbformat_minor": 5
}
