{
 "cells": [
  {
   "cell_type": "code",
   "execution_count": 2,
   "id": "0e6978b3-a0db-4d8c-a506-fae28d30ae51",
   "metadata": {},
   "outputs": [],
   "source": [
    "from torch.utils.data import Dataset\n",
    "import torchvision\n",
    "from PIL import Image\n",
    "import warnings\n",
    "import pandas as pd\n",
    "import numpy as np\n",
    "from matplotlib import pyplot as plt\n",
    "from skimage import io\n",
    "from torchvision import datasets, transforms\n",
    "from torch.utils.data.sampler import SubsetRandomSampler\n",
    "import os\n",
    "import torch\n",
    "\n",
    "from utils.transforms import *"
   ]
  },
  {
   "cell_type": "code",
   "execution_count": 3,
   "id": "1916dd69-c25d-42d4-af1f-3b1a8278ee1b",
   "metadata": {},
   "outputs": [],
   "source": [
    "if 'google.colab' in str(get_ipython()): # running on Colab\n",
    "    \n",
    "    from google.colab import drive\n",
    "    drive.mount('/content/drive')\n",
    "    gdrive_path = '/content/drive//MyDrive/DL4CV-2022/GTSRB/project-I/'\n",
    "    sys.path.append(gdrive_path)\n",
    "    \n",
    "    import utils.helpers as utils\n",
    "    #import loader.gtsrb_data as dataset\n",
    "else:\n",
    "    path = 'data'\n",
    "    import utils.helpers as utils\n",
    "    #import loader.gtsrb_data as dataset"
   ]
  },
  {
   "cell_type": "code",
   "execution_count": null,
   "id": "1af79436-d909-45c8-a1d0-a59407cb7a14",
   "metadata": {},
   "outputs": [],
   "source": [
    "class GTSRB(Dataset):\n",
    "    \"\"\"Traffic Sign Dataset\"\"\"\n",
    "    \n",
    "    def __init__(self, csv_file, root_dir, transform=None):\n",
    "        \"\"\"\n",
    "        Args:\n",
    "            csv_file (string): Path to the csv file with annotations.\n",
    "            root_dir (string): Directory with all the images\n",
    "            transform (callable, optional): Optional transform to be applied on a sample\n",
    "        \"\"\"\n",
    "        self.root_dir = root_dir\n",
    "        self.labels_df = pd.read_csv(csv_file, sep=\";\")\n",
    "        self.root_dir = root_dir\n",
    "        self.transform = transform\n",
    "        \n",
    "    def __len__(self):\n",
    "        return len(self.labels_df)\n",
    "    \n",
    "    def __getitem__(self, idx):\n",
    "        img = self.labels_df.iloc[idx]\n",
    "\n",
    "        image = Image.open(os.path.join(self.root_dir, img['Filename']))\n",
    "        label = img['ClassId']\n",
    "        \n",
    "        if self.transform:\n",
    "            image = self.transform(image)\n",
    "        \n",
    "        sample = {'image': image, 'class': label}\n",
    "        \n",
    "        return sample\n",
    "\n",
    "\n",
    "def get_train_valid_loader(data_dir,\n",
    "                           train_batch_size,\n",
    "                           val_batch_size,\n",
    "                           train_transform,\n",
    "                           valid_transform,\n",
    "                           random_seed,\n",
    "                           valid_size=0.1,\n",
    "                           shuffle=True,\n",
    "                           num_workers=4,\n",
    "                           pin_memory=False):\n",
    "    \"\"\"\n",
    "    Utility function for loading and returning train and valid\n",
    "    multi-process iterators over the CIFAR-10 dataset. A sample\n",
    "    9x9 grid of the images can be optionally displayed.\n",
    "\n",
    "    If using CUDA, num_workers should be set to 1 and pin_memory to True.\n",
    "\n",
    "    Params\n",
    "    ------\n",
    "    - data_dir: path directory to the dataset.\n",
    "    - batch_size: how many samples per batch to load.\n",
    "    - augment: whether to apply the data augmentation scheme\n",
    "      mentioned in the paper. Only applied on the train split.\n",
    "    - random_seed: fix seed for reproducibility.\n",
    "    - valid_size: percentage split of the training set used for\n",
    "      the validation set. Should be a float in the range [0, 1].\n",
    "    - shuffle: whether to shuffle the train/validation indices.\n",
    "    - show_sample: plot 9x9 sample grid of the dataset.\n",
    "    - num_workers: number of subprocesses to use when loading the dataset.\n",
    "    - pin_memory: whether to copy tensors into CUDA pinned memory. Set it to\n",
    "      True if using GPU.\n",
    "\n",
    "    Returns\n",
    "    -------\n",
    "    - train_loader: training set iterator.\n",
    "    - valid_loader: validation set iterator.\n",
    "    \"\"\"\n",
    "    error_msg = \"[!] valid_size should be in the range [0, 1].\"\n",
    "    assert ((valid_size >= 0) and (valid_size <= 1)), error_msg\n",
    "\n",
    "    # define transforms\n",
    "    #    valid_transform = valid_transform\n",
    "    #    train_transform = train_transform\n",
    "\n",
    "    #    if augment:\n",
    "    #        train_transform = transforms.Compose([\n",
    "    #        transforms.RandomSizedCrop(224),\n",
    "    #        transforms.ToTensor(),\n",
    "    #        transforms.Normalize([0.485, 0.456, 0.406], [0.229, 0.224, 0.225])\n",
    "    #        ])\n",
    "    #    else:\n",
    "    #        train_transform = transforms.Compose([\n",
    "    #        transforms.Resize((224,224)),\n",
    "    #        transforms.ToTensor(),\n",
    "    #        transforms.Normalize([0.485, 0.456, 0.406], [0.229, 0.224, 0.225])\n",
    "    #        ])\n",
    "\n",
    "    # load the dataset\n",
    "    train_dataset = datasets.ImageFolder(root=data_dir, transform=train_transform)\n",
    "\n",
    "    classes = train_dataset.classes\n",
    "    valid_dataset = datasets.ImageFolder(root=data_dir, transform=valid_transform)\n",
    "\n",
    "    num_train = len(train_dataset)\n",
    "    indices = list(range(num_train))\n",
    "    split = int(np.floor(valid_size * num_train))\n",
    "\n",
    "    if shuffle:\n",
    "        np.random.seed(random_seed)\n",
    "        np.random.shuffle(indices)\n",
    "\n",
    "    train_idx, valid_idx = indices[split:], indices[:split]\n",
    "    train_sampler = SubsetRandomSampler(train_idx)\n",
    "    valid_sampler = SubsetRandomSampler(valid_idx)\n",
    "    train_data_size = len(train_sampler)\n",
    "    valid_data_size = len(valid_sampler)\n",
    "\n",
    "    train_loader = torch.utils.data.DataLoader(\n",
    "        train_dataset, batch_size=train_batch_size, sampler=train_sampler,\n",
    "        num_workers=num_workers, pin_memory=pin_memory,\n",
    "    )\n",
    "    valid_loader = torch.utils.data.DataLoader(\n",
    "        valid_dataset, batch_size=val_batch_size, sampler=valid_sampler,\n",
    "        num_workers=num_workers, pin_memory=pin_memory,\n",
    "    )\n",
    "    return train_loader, valid_loader, train_data_size, valid_data_size, classes\n",
    "\n",
    "\n",
    "def imshow(inp, title=None):\n",
    "    \"\"\"Imshow for Tensor.\"\"\"\n",
    "    inp = inp.numpy().transpose((1, 2, 0))\n",
    "    mean = np.array([0.485, 0.456, 0.406])\n",
    "    std = np.array([0.229, 0.224, 0.225])\n",
    "    inp = std * inp + mean\n",
    "    inp = np.clip(inp, 0, 1)\n",
    "    plt.imshow(inp)\n",
    "    if title is not None:\n",
    "        plt.title(title)\n",
    "    plt.pause(0.001)  # pause a bit so that plots are updated\n",
    "\n",
    "\n",
    "def check():\n",
    "\n",
    "    labels_df = pd.read_csv('GTSRB/Online-Test/GT-online_test.csv', sep=\";\")\n",
    "    img_name = labels_df.iloc[10]\n",
    "    print(img_name)\n",
    "    print(img_name['Filename'])\n",
    "    # print(labels_df.iloc[10,:])\n",
    "    image = io.imread(os.path.join('GTSRB/Online-Test/Images/',img_name['Filename']))\n",
    "    plt.imshow(image)\n",
    "    plt.show()\n",
    "\n",
    "    root_dir = 'GTSRB/Online-Test/'\n",
    "    traffic_dataset = TrafficSignDataset(csv_file=os.path.join(root_dir, 'GT-online_test.csv'), \n",
    "                                         root_dir=os.path.join(root_dir, 'Images/'),\n",
    "                                         transform=test_transform)\n",
    "\n",
    "    test_loader = torch.utils.data.DataLoader(traffic_dataset, batch_size=8)                           \n",
    "    data_iter = iter(test_loader)\n",
    "    sample = data_iter.next()\n",
    "    images, labels = sample['image'], sample['class']\n",
    "    # Make a grid from batch\n",
    "    out = torchvision.utils.make_grid(images)\n",
    "\n",
    "    imshow(out, title=[x for x in labels])\n"
   ]
  },
  {
   "cell_type": "code",
   "execution_count": 4,
   "id": "07c3d17b-ba63-4b0a-8125-94ee4ff70a73",
   "metadata": {},
   "outputs": [],
   "source": [
    "class GTSRB(Dataset):\n",
    "    \"\"\"Traffic Sign Dataset\"\"\"\n",
    "    \n",
    "    def __init__(self, csv_file, root_dir, transform=None):\n",
    "        \"\"\"\n",
    "        Args:\n",
    "            csv_file (string): Path to the csv file with annotations.\n",
    "            root_dir (string): Directory with all the images\n",
    "            transform (callable, optional): Optional transform to be applied on a sample\n",
    "        \"\"\"\n",
    "        #print(root_dir)\n",
    "        self.root_dir = root_dir\n",
    "        self.labels_df = pd.read_csv(csv_file, sep=\";\")\n",
    "        self.root_dir = root_dir\n",
    "        self.transform = transform\n",
    "        \n",
    "    def __len__(self):\n",
    "        return len(self.labels_df)\n",
    "    \n",
    "    def __getitem__(self, idx):\n",
    "        img = self.labels_df.iloc[idx]\n",
    "\n",
    "        image = Image.open(os.path.join(self.root_dir, img['Filename']))\n",
    "        label = img['ClassId']\n",
    "        \n",
    "        if self.transform:\n",
    "            image = self.transform(image)\n",
    "        \n",
    "        sample = {'image': image, 'class': label}\n",
    "        \n",
    "        return sample"
   ]
  },
  {
   "cell_type": "code",
   "execution_count": null,
   "id": "dcbfdbd3-8b9a-441d-a4b1-383ce9b970d8",
   "metadata": {},
   "outputs": [],
   "source": [
    "root_dir = '/Users/geraldmc/Desktop/Hopkins/Spring-2022/DL4CV-2022/project-I/'\n",
    "csv_file = root_dir+'data/GTSRB/Final_Training/Annotations/GT_Training.csv'"
   ]
  },
  {
   "cell_type": "code",
   "execution_count": 5,
   "id": "add8b97f-1147-45a2-9c8d-10bc2deaf01c",
   "metadata": {},
   "outputs": [],
   "source": [
    "train_path = os.path.join(os.getcwd(),'data/GTSRB/Final_Training/Images')"
   ]
  },
  {
   "cell_type": "code",
   "execution_count": 6,
   "id": "cbcc896a-d340-4303-80f0-bdfad1f9d67c",
   "metadata": {},
   "outputs": [
    {
     "data": {
      "text/plain": [
       "'/Users/geraldmc/Desktop/Hopkins/Spring-2022/DL4CV-2022/project-I/data/GTSRB/Final_Training/Images'"
      ]
     },
     "execution_count": 6,
     "metadata": {},
     "output_type": "execute_result"
    }
   ],
   "source": [
    "train_path"
   ]
  },
  {
   "cell_type": "code",
   "execution_count": 8,
   "id": "dd77020a-f059-4590-99a4-cc3c3dc974cd",
   "metadata": {},
   "outputs": [],
   "source": [
    "import torch\n",
    "import torchvision\n",
    "import torchvision.transforms as transforms\n",
    "import numpy as np\n",
    "import os\n",
    "\n",
    "train_path = os.path.join(os.getcwd(),'data/GTSRB/Final_Training/Images')\n",
    "\n",
    "def get_data_loader(data_dir=train_path, batch_size=2, train=True):\n",
    "    '''\n",
    "    '''\n",
    "    # Data augmentation definitions.\n",
    "    transform = {\n",
    "        'train': transforms.Compose([\n",
    "            transforms.Resize([32,32]), # \n",
    "            transforms.ToTensor(),\n",
    "            transforms.Normalize(mean=(0.5,0.5,0.5), std=(0.5,0.5,0.5))\n",
    "        ]),\n",
    "        'test': transforms.Compose([\n",
    "            transforms.Resize([32,32]), # \n",
    "            transforms.ToTensor(),\n",
    "            transforms.Normalize(mean=(0.5,0.5,0.5), std=(0.5,0.5,0.5))\n",
    "        ])\n",
    "    }\n",
    "\n",
    "    data = torchvision.datasets.ImageFolder(root=data_dir, \n",
    "                                            transform=transform['train'] if train else 'test')\n",
    "    \n",
    "    data_loader = torch.utils.data.DataLoader(dataset=data, batch_size=batch_size, \n",
    "                                              shuffle=True, num_workers=2)\n",
    "\n",
    "    return data, data_loader\n",
    "\n"
   ]
  },
  {
   "cell_type": "code",
   "execution_count": 9,
   "id": "90ab42f8-d77b-4ed3-9222-80f2e9cd0d0a",
   "metadata": {},
   "outputs": [],
   "source": [
    "data, loader = get_data_loader()"
   ]
  },
  {
   "cell_type": "code",
   "execution_count": 10,
   "id": "f34ff9c9-0b39-4790-8a7f-21fb72382289",
   "metadata": {},
   "outputs": [
    {
     "data": {
      "text/plain": [
       "Dataset ImageFolder\n",
       "    Number of datapoints: 39209\n",
       "    Root location: /Users/geraldmc/Desktop/Hopkins/Spring-2022/DL4CV-2022/project-I/data/GTSRB/Final_Training/Images\n",
       "    StandardTransform\n",
       "Transform: Compose(\n",
       "               Resize(size=[224, 224], interpolation=bilinear, max_size=None, antialias=None)\n",
       "               ToTensor()\n",
       "               Normalize(mean=(0.5, 0.5, 0.5), std=(0.5, 0.5, 0.5))\n",
       "           )"
      ]
     },
     "execution_count": 10,
     "metadata": {},
     "output_type": "execute_result"
    }
   ],
   "source": [
    "data"
   ]
  },
  {
   "cell_type": "code",
   "execution_count": null,
   "id": "0f3fddf7-c7ba-44ee-a482-1dac9fb64e8b",
   "metadata": {},
   "outputs": [],
   "source": []
  },
  {
   "cell_type": "code",
   "execution_count": null,
   "id": "38b674ed-0268-4a6b-a259-59962e901749",
   "metadata": {},
   "outputs": [],
   "source": []
  },
  {
   "cell_type": "code",
   "execution_count": null,
   "id": "18a73d12-469f-46ce-aaa2-316df5b85bae",
   "metadata": {},
   "outputs": [],
   "source": [
    "gt = GTSRB(csv_file, root_dir)"
   ]
  },
  {
   "cell_type": "code",
   "execution_count": null,
   "id": "0cc356a9-de9a-42ce-93dc-48edd90371f9",
   "metadata": {},
   "outputs": [],
   "source": [
    "gt.labels_df"
   ]
  },
  {
   "cell_type": "code",
   "execution_count": null,
   "id": "6bc3ced9-5a6f-4b44-bbcf-84dd5c9065c1",
   "metadata": {},
   "outputs": [],
   "source": [
    "#!pwd\n",
    "train_df = pd.read_csv('./data/GTSRB/Final_Training/Annotations/GT_Training.csv', sep=\";\")"
   ]
  },
  {
   "cell_type": "code",
   "execution_count": null,
   "id": "bfe2f283-e05d-488c-873d-25db7aa24cb3",
   "metadata": {},
   "outputs": [],
   "source": [
    "train_df"
   ]
  },
  {
   "cell_type": "code",
   "execution_count": null,
   "id": "9d6cd019-839e-41a0-8b24-f18f005ecccb",
   "metadata": {},
   "outputs": [],
   "source": [
    "\n",
    "#img_path = '/Users/geraldmc/Desktop/Hopkins/Spring-2022/DL4CV-2022/project-I/data/GTSRB/Final_Training/Images'\n",
    "#img = train_df.iloc[1000]\n",
    "#img_name = img['Filename']\n",
    "#prefix = img['Filename'][0:5]\n",
    "#image = io.imread(os.path.join(img_path,pre,img_name['Filename']))\n",
    "#image\n"
   ]
  },
  {
   "cell_type": "code",
   "execution_count": null,
   "id": "92b8d0ad-0a74-4557-a6d5-072316878a81",
   "metadata": {},
   "outputs": [],
   "source": []
  },
  {
   "cell_type": "code",
   "execution_count": null,
   "id": "f6fe4f37-923c-4b28-bafd-0f2139136c18",
   "metadata": {},
   "outputs": [],
   "source": [
    "prefix = img['Filename'][0:5]\n",
    "image = io.imread(os.path.join(img_path,pre,img_name['Filename']))\n",
    "\n"
   ]
  },
  {
   "cell_type": "code",
   "execution_count": null,
   "id": "1e3592c0-580a-4156-b32e-cf1493c50cbf",
   "metadata": {},
   "outputs": [],
   "source": []
  },
  {
   "cell_type": "code",
   "execution_count": null,
   "id": "fc4d3baa-d7e7-4e46-ba60-781b71c94be1",
   "metadata": {},
   "outputs": [],
   "source": []
  }
 ],
 "metadata": {
  "kernelspec": {
   "display_name": "Python 3 (ipykernel)",
   "language": "python",
   "name": "python3"
  },
  "language_info": {
   "codemirror_mode": {
    "name": "ipython",
    "version": 3
   },
   "file_extension": ".py",
   "mimetype": "text/x-python",
   "name": "python",
   "nbconvert_exporter": "python",
   "pygments_lexer": "ipython3",
   "version": "3.8.12"
  }
 },
 "nbformat": 4,
 "nbformat_minor": 5
}
