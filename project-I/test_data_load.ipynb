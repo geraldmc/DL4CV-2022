{
  "cells": [
    {
      "cell_type": "code",
      "execution_count": 8,
      "id": "894c3202-98a9-4604-829f-c4ff07935dcd",
      "metadata": {
        "id": "894c3202-98a9-4604-829f-c4ff07935dcd"
      },
      "outputs": [],
      "source": [
        "import bz2\n",
        "import _pickle as cPickle"
      ]
    },
    {
      "cell_type": "code",
      "execution_count": 9,
      "id": "5SjGdrxZi2B8",
      "metadata": {
        "id": "5SjGdrxZi2B8"
      },
      "outputs": [],
      "source": [
        "COLAB = 'google.colab' in str(get_ipython())\n",
        "COMPRESS = False"
      ]
    },
    {
      "cell_type": "code",
      "execution_count": 10,
      "id": "58d9ccfc-8dbe-4888-bbcf-382c7d53c53b",
      "metadata": {
        "id": "58d9ccfc-8dbe-4888-bbcf-382c7d53c53b",
        "outputId": "43b3afb9-5871-4885-c932-77c0e301b126",
        "colab": {
          "base_uri": "https://localhost:8080/"
        }
      },
      "outputs": [
        {
          "output_type": "stream",
          "name": "stdout",
          "text": [
            "Drive already mounted at /content/drive; to attempt to forcibly remount, call drive.mount(\"/content/drive\", force_remount=True).\n",
            "GTSRB-trainImages.pbz2\tGTSRB-trainLabels.pbz2\tReadme-Images.txt  Training\n"
          ]
        }
      ],
      "source": [
        "if COLAB:\n",
        "  from google.colab import drive\n",
        "  drive.mount('/content/drive')\n",
        "  path = \"/content/drive//MyDrive/DL4CV-2022/GTSRB/\"\n",
        "  !ls $path\n",
        "else:\n",
        "  path = \"./data/\"\n",
        "  !ls $path"
      ]
    },
    {
      "cell_type": "code",
      "execution_count": 11,
      "id": "0pYRsY2yrwo0",
      "metadata": {
        "id": "0pYRsY2yrwo0"
      },
      "outputs": [],
      "source": [
        "# trainImages, trainLabels = readTrafficSigns('GTSRB/Training')\n",
        "# print len(trainLabels), len(trainImages)\n",
        "# plt.imshow(trainImages[42])\n",
        "# plt.show()\n",
        "\n",
        "import csv\n",
        "import matplotlib.pyplot as plt\n",
        "\n",
        "# returns: list of images, list of corresponding labels \n",
        "def readTrafficSigns(rootpath):\n",
        "    '''Reads traffic sign data for German Traffic Sign Recognition Benchmark.'''\n",
        "    \n",
        "    images = [] # images\n",
        "    labels = [] # corresponding labels\n",
        "    # loop over all 42 classes\n",
        "    for c in range(0,43):\n",
        "        prefix = rootpath + '/' + format(c, '05d') + '/' # subdirectory for class\n",
        "        gtFile = open(prefix + 'GT-'+ format(c, '05d') + '.csv') # annotations file\n",
        "        gtReader = csv.reader(gtFile, delimiter=';') # csv parser for annotations file\n",
        "        next(gtReader)\n",
        "        #gtReader.next() # skip header\n",
        "        # loop over all images in current annotations file\n",
        "        for row in gtReader:\n",
        "            images.append(plt.imread(prefix + row[0])) # the 1th column is the filename\n",
        "            labels.append(row[7]) # the 8th column is the label\n",
        "        gtFile.close()\n",
        "    return images, labels\n",
        "\n",
        "# Pickle a file \n",
        "def compressed_pickle(title, data):\n",
        "  with bz2.BZ2File(title + '.pbz2', 'w') as f: cPickle.dump(data, f)\n",
        "\n",
        "# Load a compressed pickle file\n",
        "def decompress_pickle(file):\n",
        "  data = bz2.BZ2File(file, 'rb')\n",
        "  data = cPickle.load(data)\n",
        "  return data"
      ]
    },
    {
      "cell_type": "code",
      "source": [
        "if COMPRESS:\n",
        "  pass\n",
        "else:\n",
        "  trainImages = decompress_pickle(path + 'GTSRB-trainImages.pbz2') \n",
        "  trainLabels = decompress_pickle(path + 'GTSRB-trainLabels.pbz2') "
      ],
      "metadata": {
        "id": "Lxma6d2Cdgi6"
      },
      "id": "Lxma6d2Cdgi6",
      "execution_count": 12,
      "outputs": []
    },
    {
      "cell_type": "code",
      "execution_count": 13,
      "id": "7c604fed-8243-4240-a6ae-9dae168d0d2f",
      "metadata": {
        "id": "7c604fed-8243-4240-a6ae-9dae168d0d2f",
        "outputId": "3b892a61-8406-4433-a96c-d9559f0f07c5",
        "colab": {
          "base_uri": "https://localhost:8080/"
        }
      },
      "outputs": [
        {
          "output_type": "stream",
          "name": "stdout",
          "text": [
            "39209 39209\n"
          ]
        }
      ],
      "source": [
        "print (len(trainLabels), len(trainImages))"
      ]
    },
    {
      "cell_type": "code",
      "execution_count": 14,
      "id": "e594b01f-72c9-4763-ac72-239d18cb3fa9",
      "metadata": {
        "id": "e594b01f-72c9-4763-ac72-239d18cb3fa9",
        "outputId": "5e47a8aa-da80-4b0b-b115-1f80e781796f",
        "colab": {
          "base_uri": "https://localhost:8080/",
          "height": 266
        }
      },
      "outputs": [
        {
          "output_type": "display_data",
          "data": {
            "image/png": "[encoded data removed]",
            "text/plain": [
              "<Figure size 432x288 with 1 Axes>"
            ]
          },
          "metadata": {
            "needs_background": "light"
          }
        }
      ],
      "source": [
        "plt.imshow(trainImages[42])\n",
        "plt.show()"
      ]
    }
  ],
  "metadata": {
    "colab": {
      "name": "test_data_load.ipynb",
      "provenance": []
    },
    "kernelspec": {
      "display_name": "Python 3 (ipykernel)",
      "language": "python",
      "name": "python3"
    },
    "language_info": {
      "codemirror_mode": {
        "name": "ipython",
        "version": 3
      },
      "file_extension": ".py",
      "mimetype": "text/x-python",
      "name": "python",
      "nbconvert_exporter": "python",
      "pygments_lexer": "ipython3",
      "version": "3.8.12"
    }
  },
  "nbformat": 4,
  "nbformat_minor": 5
}