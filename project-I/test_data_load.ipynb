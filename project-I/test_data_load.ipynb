{
 "cells": [
  {
   "cell_type": "code",
   "execution_count": 1,
   "id": "894c3202-98a9-4604-829f-c4ff07935dcd",
   "metadata": {
    "id": "894c3202-98a9-4604-829f-c4ff07935dcd"
   },
   "outputs": [],
   "source": [
    "import bz2\n",
    "import _pickle as cPickle"
   ]
  },
  {
   "cell_type": "code",
   "execution_count": 9,
   "id": "5SjGdrxZi2B8",
   "metadata": {
    "id": "5SjGdrxZi2B8"
   },
   "outputs": [],
   "source": [
    "COLAB = 'google.colab' in str(get_ipython())"
   ]
  },
  {
   "cell_type": "code",
   "execution_count": null,
   "id": "58d9ccfc-8dbe-4888-bbcf-382c7d53c53b",
   "metadata": {},
   "outputs": [],
   "source": [
    "if COLAB:\n",
    "  from google.colab import drive\n",
    "  drive.mount('/content/drive')\n",
    "  path = \"/content/drive//MyDrive/DL4CV-2022/GTSRB/pickled/\"\n",
    "else:\n",
    "  path = \"../../Midterm/GTSRB/GTSRB-unzipped/Training\""
   ]
  },
  {
   "cell_type": "code",
   "execution_count": 3,
   "id": "0pYRsY2yrwo0",
   "metadata": {
    "id": "0pYRsY2yrwo0"
   },
   "outputs": [],
   "source": [
    "# GTSRBenchmark\n",
    "#\n",
    "# Read in the traffic sign images and the corresponding labels:\n",
    "#            \n",
    "# trainImages, trainLabels = readTrafficSigns('GTSRB/Training')\n",
    "# print len(trainLabels), len(trainImages)\n",
    "# plt.imshow(trainImages[42])\n",
    "# plt.show()\n",
    "\n",
    "import csv\n",
    "import matplotlib.pyplot as plt\n",
    "\n",
    "# arguments: path to the traffic sign data, for example './GTSRB/Training'\n",
    "# returns: list of images, list of corresponding labels \n",
    "def readTrafficSigns(rootpath):\n",
    "    '''Reads traffic sign data for German Traffic Sign Recognition Benchmark.'''\n",
    "    \n",
    "    images = [] # images\n",
    "    labels = [] # corresponding labels\n",
    "    # loop over all 42 classes\n",
    "    for c in range(0,43):\n",
    "        prefix = rootpath + '/' + format(c, '05d') + '/' # subdirectory for class\n",
    "        gtFile = open(prefix + 'GT-'+ format(c, '05d') + '.csv') # annotations file\n",
    "        gtReader = csv.reader(gtFile, delimiter=';') # csv parser for annotations file\n",
    "        next(gtReader)\n",
    "        #gtReader.next() # skip header\n",
    "        # loop over all images in current annotations file\n",
    "        for row in gtReader:\n",
    "            images.append(plt.imread(prefix + row[0])) # the 1th column is the filename\n",
    "            labels.append(row[7]) # the 8th column is the label\n",
    "        gtFile.close()\n",
    "    return images, labels"
   ]
  },
  {
   "cell_type": "code",
   "execution_count": 4,
   "id": "BgSK3V_Cj-R5",
   "metadata": {
    "id": "BgSK3V_Cj-R5"
   },
   "outputs": [],
   "source": [
    "# Pickle a file and then compress it into a file with extension \n",
    "def compressed_pickle(title, data):\n",
    "  with bz2.BZ2File(title + '.pbz2', 'w') as f: cPickle.dump(data, f)"
   ]
  },
  {
   "cell_type": "code",
   "execution_count": 5,
   "id": "bab31995-9747-4d6b-893d-3df9daf07841",
   "metadata": {
    "id": "bab31995-9747-4d6b-893d-3df9daf07841"
   },
   "outputs": [],
   "source": [
    "if COLAB:\n",
    "  from google.colab import drive\n",
    "  drive.mount('/content/drive')\n",
    "  path = \"/content/drive//MyDrive/DL4CV-2022/GTSRB/pickled/\"\n",
    "else:\n",
    "  path = \"../../Midterm/GTSRB/GTSRB-unzipped/Training\""
   ]
  },
  {
   "cell_type": "code",
   "execution_count": 6,
   "id": "syWfrRA3r-Eg",
   "metadata": {
    "colab": {
     "base_uri": "https://localhost:8080/",
     "height": 288
    },
    "id": "syWfrRA3r-Eg",
    "outputId": "7295b430-bdd7-4228-8fdb-198f4f611580"
   },
   "outputs": [],
   "source": [
    "trainImages, trainLabels = readTrafficSigns(path) # returns two lists"
   ]
  },
  {
   "cell_type": "code",
   "execution_count": 7,
   "id": "7c604fed-8243-4240-a6ae-9dae168d0d2f",
   "metadata": {
    "id": "7c604fed-8243-4240-a6ae-9dae168d0d2f",
    "outputId": "d3a8c8cd-6c2b-4e36-9064-5ff7254f5295"
   },
   "outputs": [
    {
     "name": "stdout",
     "output_type": "stream",
     "text": [
      "39209 39209\n"
     ]
    }
   ],
   "source": [
    "print (len(trainLabels), len(trainImages))"
   ]
  },
  {
   "cell_type": "code",
   "execution_count": 8,
   "id": "f88fef89-d4ca-44c4-9ab1-d6e36da37435",
   "metadata": {},
   "outputs": [],
   "source": [
    "#if compress: \n",
    "compressed_pickle('./data/GTSRB-trainImages', trainImages) \n",
    "compressed_pickle('./data/GTSRB-trainLabels', trainLabels)\n",
    "compress=True"
   ]
  },
  {
   "cell_type": "code",
   "execution_count": null,
   "id": "e594b01f-72c9-4763-ac72-239d18cb3fa9",
   "metadata": {
    "id": "e594b01f-72c9-4763-ac72-239d18cb3fa9",
    "outputId": "f3b9216d-eca7-4918-b69b-c486a26a2a42"
   },
   "outputs": [],
   "source": [
    "plt.imshow(trainImages[42])\n",
    "plt.show()"
   ]
  },
  {
   "cell_type": "code",
   "execution_count": null,
   "id": "ec98f87c-37cd-4fc9-be84-a3797b5c1946",
   "metadata": {
    "id": "ec98f87c-37cd-4fc9-be84-a3797b5c1946"
   },
   "outputs": [],
   "source": [
    "!ls /content/drive//MyDrive/DL4CV-2022/GTSRB/Training/"
   ]
  }
 ],
 "metadata": {
  "colab": {
   "name": "test_data_load.ipynb",
   "provenance": []
  },
  "kernelspec": {
   "display_name": "Python 3 (ipykernel)",
   "language": "python",
   "name": "python3"
  },
  "language_info": {
   "codemirror_mode": {
    "name": "ipython",
    "version": 3
   },
   "file_extension": ".py",
   "mimetype": "text/x-python",
   "name": "python",
   "nbconvert_exporter": "python",
   "pygments_lexer": "ipython3",
   "version": "3.8.12"
  }
 },
 "nbformat": 4,
 "nbformat_minor": 5
}
